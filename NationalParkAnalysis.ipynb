{
 "cells": [
  {
   "cell_type": "markdown",
   "metadata": {},
   "source": [
    "# National Park Analysis"
   ]
  },
  {
   "cell_type": "code",
   "execution_count": 1,
   "metadata": {
    "scrolled": true
   },
   "outputs": [],
   "source": [
    "#import libraries keys and setup data direcotry\n",
    "import matplotlib.pyplot as plt\n",
    "import pandas as pd\n",
    "import numpy as np\n",
    "import requests\n",
    "from datetime import date\n",
    "import os\n",
    "import sys\n",
    "import random\n",
    "from scipy.stats import linregress\n",
    "from scipy.stats import normaltest\n",
    "from citipy import citipy\n",
    "import json\n",
    "import gmaps\n",
    "from math import nan\n",
    "\n",
    "\n",
    "#Include api directory in path\n",
    "sys.path.append(\"api\")\n",
    "\n",
    "# Import API key\n",
    "from config import g_key\n",
    "from config import np_key\n",
    "\n",
    "#National Park Endpoints\n",
    "np_endpoint_parks = \"https://developer.nps.gov/api/v1/parks?\"\n",
    "\n"
   ]
  },
  {
   "cell_type": "markdown",
   "metadata": {},
   "source": [
    "## Import Park Attendance Data (Ana, Kevin-support)"
   ]
  },
  {
   "cell_type": "code",
   "execution_count": 2,
   "metadata": {},
   "outputs": [],
   "source": [
    "#Import in park atendnce excel/csv  "
   ]
  },
  {
   "cell_type": "code",
   "execution_count": 3,
   "metadata": {
    "scrolled": true
   },
   "outputs": [
    {
     "data": {
      "text/html": [
       "<div>\n",
       "<style scoped>\n",
       "    .dataframe tbody tr th:only-of-type {\n",
       "        vertical-align: middle;\n",
       "    }\n",
       "\n",
       "    .dataframe tbody tr th {\n",
       "        vertical-align: top;\n",
       "    }\n",
       "\n",
       "    .dataframe thead th {\n",
       "        text-align: right;\n",
       "    }\n",
       "</style>\n",
       "<table border=\"1\" class=\"dataframe\">\n",
       "  <thead>\n",
       "    <tr style=\"text-align: right;\">\n",
       "      <th></th>\n",
       "      <th>Park Name</th>\n",
       "      <th>Year</th>\n",
       "      <th>Visits</th>\n",
       "    </tr>\n",
       "  </thead>\n",
       "  <tbody>\n",
       "    <tr>\n",
       "      <th>0</th>\n",
       "      <td>Abraham Lincoln Birthplace NHP</td>\n",
       "      <td>2019</td>\n",
       "      <td>238226</td>\n",
       "    </tr>\n",
       "    <tr>\n",
       "      <th>1</th>\n",
       "      <td>Abraham Lincoln Birthplace NHP</td>\n",
       "      <td>1979</td>\n",
       "      <td>271231</td>\n",
       "    </tr>\n",
       "    <tr>\n",
       "      <th>2</th>\n",
       "      <td>Abraham Lincoln Birthplace NHP</td>\n",
       "      <td>1980</td>\n",
       "      <td>239074</td>\n",
       "    </tr>\n",
       "    <tr>\n",
       "      <th>3</th>\n",
       "      <td>Abraham Lincoln Birthplace NHP</td>\n",
       "      <td>1981</td>\n",
       "      <td>252245</td>\n",
       "    </tr>\n",
       "    <tr>\n",
       "      <th>4</th>\n",
       "      <td>Abraham Lincoln Birthplace NHP</td>\n",
       "      <td>1982</td>\n",
       "      <td>318707</td>\n",
       "    </tr>\n",
       "    <tr>\n",
       "      <th>...</th>\n",
       "      <td>...</td>\n",
       "      <td>...</td>\n",
       "      <td>...</td>\n",
       "    </tr>\n",
       "    <tr>\n",
       "      <th>13738</th>\n",
       "      <td>Zion NP</td>\n",
       "      <td>2014</td>\n",
       "      <td>3189696</td>\n",
       "    </tr>\n",
       "    <tr>\n",
       "      <th>13739</th>\n",
       "      <td>Zion NP</td>\n",
       "      <td>2015</td>\n",
       "      <td>3648846</td>\n",
       "    </tr>\n",
       "    <tr>\n",
       "      <th>13740</th>\n",
       "      <td>Zion NP</td>\n",
       "      <td>2016</td>\n",
       "      <td>4295127</td>\n",
       "    </tr>\n",
       "    <tr>\n",
       "      <th>13741</th>\n",
       "      <td>Zion NP</td>\n",
       "      <td>2017</td>\n",
       "      <td>4504812</td>\n",
       "    </tr>\n",
       "    <tr>\n",
       "      <th>13742</th>\n",
       "      <td>Zion NP</td>\n",
       "      <td>2018</td>\n",
       "      <td>4320033</td>\n",
       "    </tr>\n",
       "  </tbody>\n",
       "</table>\n",
       "<p>13743 rows × 3 columns</p>\n",
       "</div>"
      ],
      "text/plain": [
       "                            Park Name  Year   Visits\n",
       "0      Abraham Lincoln Birthplace NHP  2019   238226\n",
       "1      Abraham Lincoln Birthplace NHP  1979   271231\n",
       "2      Abraham Lincoln Birthplace NHP  1980   239074\n",
       "3      Abraham Lincoln Birthplace NHP  1981   252245\n",
       "4      Abraham Lincoln Birthplace NHP  1982   318707\n",
       "...                               ...   ...      ...\n",
       "13738                         Zion NP  2014  3189696\n",
       "13739                         Zion NP  2015  3648846\n",
       "13740                         Zion NP  2016  4295127\n",
       "13741                         Zion NP  2017  4504812\n",
       "13742                         Zion NP  2018  4320033\n",
       "\n",
       "[13743 rows x 3 columns]"
      ]
     },
     "execution_count": 3,
     "metadata": {},
     "output_type": "execute_result"
    }
   ],
   "source": [
    "# Import the park atendence csv file\n",
    "attendance_df = pd.read_csv(\"data/Visists 1979-2019 v2.csv\")\n",
    "attendance_df"
   ]
  },
  {
   "cell_type": "code",
   "execution_count": 4,
   "metadata": {},
   "outputs": [
    {
     "data": {
      "text/plain": [
       "Index(['Park Name', 'Year', 'Visits'], dtype='object')"
      ]
     },
     "execution_count": 4,
     "metadata": {},
     "output_type": "execute_result"
    }
   ],
   "source": [
    "#Data cleanse.\n",
    "attendance_df.columns"
   ]
  },
  {
   "cell_type": "code",
   "execution_count": 5,
   "metadata": {},
   "outputs": [
    {
     "data": {
      "text/plain": [
       "Park Name    object\n",
       "Year          int64\n",
       "Visits        int64\n",
       "dtype: object"
      ]
     },
     "execution_count": 5,
     "metadata": {},
     "output_type": "execute_result"
    }
   ],
   "source": [
    "#Checking the data types in Data Frame \n",
    "attendance_df.dtypes"
   ]
  },
  {
   "cell_type": "code",
   "execution_count": 6,
   "metadata": {},
   "outputs": [
    {
     "data": {
      "text/plain": [
       "Park Name    object\n",
       "Year          int64\n",
       "Visits        int64\n",
       "dtype: object"
      ]
     },
     "execution_count": 6,
     "metadata": {},
     "output_type": "execute_result"
    }
   ],
   "source": [
    "attendance_df[\"Park Name\"] = attendance_df[\"Park Name\"].astype(\"str\")\n",
    "attendance_df.dtypes"
   ]
  },
  {
   "cell_type": "code",
   "execution_count": 7,
   "metadata": {
    "scrolled": true
   },
   "outputs": [
    {
     "data": {
      "text/html": [
       "<div>\n",
       "<style scoped>\n",
       "    .dataframe tbody tr th:only-of-type {\n",
       "        vertical-align: middle;\n",
       "    }\n",
       "\n",
       "    .dataframe tbody tr th {\n",
       "        vertical-align: top;\n",
       "    }\n",
       "\n",
       "    .dataframe thead th {\n",
       "        text-align: right;\n",
       "    }\n",
       "</style>\n",
       "<table border=\"1\" class=\"dataframe\">\n",
       "  <thead>\n",
       "    <tr style=\"text-align: right;\">\n",
       "      <th></th>\n",
       "      <th>Park Name</th>\n",
       "      <th>Year</th>\n",
       "      <th>Visits</th>\n",
       "    </tr>\n",
       "  </thead>\n",
       "  <tbody>\n",
       "    <tr>\n",
       "      <th>41</th>\n",
       "      <td>Acadia NP</td>\n",
       "      <td>2019</td>\n",
       "      <td>3437286</td>\n",
       "    </tr>\n",
       "    <tr>\n",
       "      <th>42</th>\n",
       "      <td>Acadia NP</td>\n",
       "      <td>1979</td>\n",
       "      <td>2787366</td>\n",
       "    </tr>\n",
       "    <tr>\n",
       "      <th>43</th>\n",
       "      <td>Acadia NP</td>\n",
       "      <td>1980</td>\n",
       "      <td>2779666</td>\n",
       "    </tr>\n",
       "    <tr>\n",
       "      <th>44</th>\n",
       "      <td>Acadia NP</td>\n",
       "      <td>1981</td>\n",
       "      <td>2997972</td>\n",
       "    </tr>\n",
       "    <tr>\n",
       "      <th>45</th>\n",
       "      <td>Acadia NP</td>\n",
       "      <td>1982</td>\n",
       "      <td>3572114</td>\n",
       "    </tr>\n",
       "    <tr>\n",
       "      <th>...</th>\n",
       "      <td>...</td>\n",
       "      <td>...</td>\n",
       "      <td>...</td>\n",
       "    </tr>\n",
       "    <tr>\n",
       "      <th>13738</th>\n",
       "      <td>Zion NP</td>\n",
       "      <td>2014</td>\n",
       "      <td>3189696</td>\n",
       "    </tr>\n",
       "    <tr>\n",
       "      <th>13739</th>\n",
       "      <td>Zion NP</td>\n",
       "      <td>2015</td>\n",
       "      <td>3648846</td>\n",
       "    </tr>\n",
       "    <tr>\n",
       "      <th>13740</th>\n",
       "      <td>Zion NP</td>\n",
       "      <td>2016</td>\n",
       "      <td>4295127</td>\n",
       "    </tr>\n",
       "    <tr>\n",
       "      <th>13741</th>\n",
       "      <td>Zion NP</td>\n",
       "      <td>2017</td>\n",
       "      <td>4504812</td>\n",
       "    </tr>\n",
       "    <tr>\n",
       "      <th>13742</th>\n",
       "      <td>Zion NP</td>\n",
       "      <td>2018</td>\n",
       "      <td>4320033</td>\n",
       "    </tr>\n",
       "  </tbody>\n",
       "</table>\n",
       "<p>2786 rows × 3 columns</p>\n",
       "</div>"
      ],
      "text/plain": [
       "       Park Name  Year   Visits\n",
       "41     Acadia NP  2019  3437286\n",
       "42     Acadia NP  1979  2787366\n",
       "43     Acadia NP  1980  2779666\n",
       "44     Acadia NP  1981  2997972\n",
       "45     Acadia NP  1982  3572114\n",
       "...          ...   ...      ...\n",
       "13738    Zion NP  2014  3189696\n",
       "13739    Zion NP  2015  3648846\n",
       "13740    Zion NP  2016  4295127\n",
       "13741    Zion NP  2017  4504812\n",
       "13742    Zion NP  2018  4320033\n",
       "\n",
       "[2786 rows x 3 columns]"
      ]
     },
     "execution_count": 7,
     "metadata": {},
     "output_type": "execute_result"
    }
   ],
   "source": [
    "# Filter through our attendence DataFrame to fibd only our National Parks\n",
    "national_park_df = attendance_df[attendance_df[\"Park Name\"].str.contains(\"NP\")]\n",
    "national_park_df"
   ]
  },
  {
   "cell_type": "markdown",
   "metadata": {},
   "source": [
    "## Import Operating Cost Data (Kevin)"
   ]
  },
  {
   "cell_type": "code",
   "execution_count": 8,
   "metadata": {},
   "outputs": [],
   "source": [
    "#Import operating cost into data frame "
   ]
  },
  {
   "cell_type": "code",
   "execution_count": 9,
   "metadata": {},
   "outputs": [],
   "source": [
    "#Data cleansing"
   ]
  },
  {
   "cell_type": "markdown",
   "metadata": {},
   "source": [
    "## Import CPI table"
   ]
  },
  {
   "cell_type": "code",
   "execution_count": 13,
   "metadata": {},
   "outputs": [],
   "source": [
    "cpi_df = pd.read_excel(\"data/cpi_table.xlsx\")"
   ]
  },
  {
   "cell_type": "code",
   "execution_count": 42,
   "metadata": {
    "scrolled": true
   },
   "outputs": [
    {
     "data": {
      "text/html": [
       "<div>\n",
       "<style scoped>\n",
       "    .dataframe tbody tr th:only-of-type {\n",
       "        vertical-align: middle;\n",
       "    }\n",
       "\n",
       "    .dataframe tbody tr th {\n",
       "        vertical-align: top;\n",
       "    }\n",
       "\n",
       "    .dataframe thead th {\n",
       "        text-align: right;\n",
       "    }\n",
       "</style>\n",
       "<table border=\"1\" class=\"dataframe\">\n",
       "  <thead>\n",
       "    <tr style=\"text-align: right;\">\n",
       "      <th></th>\n",
       "      <th>YEAR</th>\n",
       "      <th>CPI</th>\n",
       "    </tr>\n",
       "  </thead>\n",
       "  <tbody>\n",
       "    <tr>\n",
       "      <th>0</th>\n",
       "      <td>2020</td>\n",
       "      <td>258.811</td>\n",
       "    </tr>\n",
       "    <tr>\n",
       "      <th>1</th>\n",
       "      <td>2019</td>\n",
       "      <td>255.657</td>\n",
       "    </tr>\n",
       "    <tr>\n",
       "      <th>2</th>\n",
       "      <td>2018</td>\n",
       "      <td>251.107</td>\n",
       "    </tr>\n",
       "    <tr>\n",
       "      <th>3</th>\n",
       "      <td>2017</td>\n",
       "      <td>245.120</td>\n",
       "    </tr>\n",
       "    <tr>\n",
       "      <th>4</th>\n",
       "      <td>2016</td>\n",
       "      <td>240.008</td>\n",
       "    </tr>\n",
       "    <tr>\n",
       "      <th>5</th>\n",
       "      <td>2015</td>\n",
       "      <td>237.017</td>\n",
       "    </tr>\n",
       "    <tr>\n",
       "      <th>6</th>\n",
       "      <td>2014</td>\n",
       "      <td>236.736</td>\n",
       "    </tr>\n",
       "    <tr>\n",
       "      <th>7</th>\n",
       "      <td>2013</td>\n",
       "      <td>232.957</td>\n",
       "    </tr>\n",
       "    <tr>\n",
       "      <th>8</th>\n",
       "      <td>2012</td>\n",
       "      <td>229.594</td>\n",
       "    </tr>\n",
       "    <tr>\n",
       "      <th>9</th>\n",
       "      <td>2011</td>\n",
       "      <td>224.939</td>\n",
       "    </tr>\n",
       "    <tr>\n",
       "      <th>10</th>\n",
       "      <td>2010</td>\n",
       "      <td>218.056</td>\n",
       "    </tr>\n",
       "    <tr>\n",
       "      <th>11</th>\n",
       "      <td>2009</td>\n",
       "      <td>214.537</td>\n",
       "    </tr>\n",
       "    <tr>\n",
       "      <th>12</th>\n",
       "      <td>2008</td>\n",
       "      <td>215.303</td>\n",
       "    </tr>\n",
       "    <tr>\n",
       "      <th>13</th>\n",
       "      <td>2007</td>\n",
       "      <td>207.342</td>\n",
       "    </tr>\n",
       "    <tr>\n",
       "      <th>14</th>\n",
       "      <td>2006</td>\n",
       "      <td>201.600</td>\n",
       "    </tr>\n",
       "    <tr>\n",
       "      <th>15</th>\n",
       "      <td>2005</td>\n",
       "      <td>195.300</td>\n",
       "    </tr>\n",
       "    <tr>\n",
       "      <th>16</th>\n",
       "      <td>2004</td>\n",
       "      <td>188.900</td>\n",
       "    </tr>\n",
       "    <tr>\n",
       "      <th>17</th>\n",
       "      <td>2003</td>\n",
       "      <td>183.960</td>\n",
       "    </tr>\n",
       "    <tr>\n",
       "      <th>18</th>\n",
       "      <td>2002</td>\n",
       "      <td>179.880</td>\n",
       "    </tr>\n",
       "    <tr>\n",
       "      <th>19</th>\n",
       "      <td>2001</td>\n",
       "      <td>177.100</td>\n",
       "    </tr>\n",
       "    <tr>\n",
       "      <th>20</th>\n",
       "      <td>2000</td>\n",
       "      <td>172.200</td>\n",
       "    </tr>\n",
       "    <tr>\n",
       "      <th>21</th>\n",
       "      <td>1999</td>\n",
       "      <td>166.600</td>\n",
       "    </tr>\n",
       "    <tr>\n",
       "      <th>22</th>\n",
       "      <td>1998</td>\n",
       "      <td>163.000</td>\n",
       "    </tr>\n",
       "    <tr>\n",
       "      <th>23</th>\n",
       "      <td>1997</td>\n",
       "      <td>160.500</td>\n",
       "    </tr>\n",
       "    <tr>\n",
       "      <th>24</th>\n",
       "      <td>1996</td>\n",
       "      <td>156.900</td>\n",
       "    </tr>\n",
       "    <tr>\n",
       "      <th>25</th>\n",
       "      <td>1995</td>\n",
       "      <td>152.400</td>\n",
       "    </tr>\n",
       "    <tr>\n",
       "      <th>26</th>\n",
       "      <td>1994</td>\n",
       "      <td>148.200</td>\n",
       "    </tr>\n",
       "    <tr>\n",
       "      <th>27</th>\n",
       "      <td>1993</td>\n",
       "      <td>144.500</td>\n",
       "    </tr>\n",
       "    <tr>\n",
       "      <th>28</th>\n",
       "      <td>1992</td>\n",
       "      <td>140.300</td>\n",
       "    </tr>\n",
       "    <tr>\n",
       "      <th>29</th>\n",
       "      <td>1991</td>\n",
       "      <td>136.200</td>\n",
       "    </tr>\n",
       "    <tr>\n",
       "      <th>30</th>\n",
       "      <td>1990</td>\n",
       "      <td>130.700</td>\n",
       "    </tr>\n",
       "    <tr>\n",
       "      <th>31</th>\n",
       "      <td>1989</td>\n",
       "      <td>124.000</td>\n",
       "    </tr>\n",
       "    <tr>\n",
       "      <th>32</th>\n",
       "      <td>1988</td>\n",
       "      <td>118.300</td>\n",
       "    </tr>\n",
       "    <tr>\n",
       "      <th>33</th>\n",
       "      <td>1987</td>\n",
       "      <td>113.600</td>\n",
       "    </tr>\n",
       "    <tr>\n",
       "      <th>34</th>\n",
       "      <td>1986</td>\n",
       "      <td>109.600</td>\n",
       "    </tr>\n",
       "    <tr>\n",
       "      <th>35</th>\n",
       "      <td>1985</td>\n",
       "      <td>107.600</td>\n",
       "    </tr>\n",
       "    <tr>\n",
       "      <th>36</th>\n",
       "      <td>1984</td>\n",
       "      <td>103.900</td>\n",
       "    </tr>\n",
       "    <tr>\n",
       "      <th>37</th>\n",
       "      <td>1983</td>\n",
       "      <td>99.600</td>\n",
       "    </tr>\n",
       "    <tr>\n",
       "      <th>38</th>\n",
       "      <td>1982</td>\n",
       "      <td>96.500</td>\n",
       "    </tr>\n",
       "    <tr>\n",
       "      <th>39</th>\n",
       "      <td>1981</td>\n",
       "      <td>90.900</td>\n",
       "    </tr>\n",
       "    <tr>\n",
       "      <th>40</th>\n",
       "      <td>1980</td>\n",
       "      <td>82.400</td>\n",
       "    </tr>\n",
       "    <tr>\n",
       "      <th>41</th>\n",
       "      <td>1979</td>\n",
       "      <td>72.600</td>\n",
       "    </tr>\n",
       "    <tr>\n",
       "      <th>42</th>\n",
       "      <td>1978</td>\n",
       "      <td>65.200</td>\n",
       "    </tr>\n",
       "    <tr>\n",
       "      <th>43</th>\n",
       "      <td>1977</td>\n",
       "      <td>60.600</td>\n",
       "    </tr>\n",
       "    <tr>\n",
       "      <th>44</th>\n",
       "      <td>1976</td>\n",
       "      <td>56.900</td>\n",
       "    </tr>\n",
       "    <tr>\n",
       "      <th>45</th>\n",
       "      <td>1975</td>\n",
       "      <td>53.800</td>\n",
       "    </tr>\n",
       "    <tr>\n",
       "      <th>46</th>\n",
       "      <td>1974</td>\n",
       "      <td>49.300</td>\n",
       "    </tr>\n",
       "    <tr>\n",
       "      <th>47</th>\n",
       "      <td>1973</td>\n",
       "      <td>44.400</td>\n",
       "    </tr>\n",
       "    <tr>\n",
       "      <th>48</th>\n",
       "      <td>1972</td>\n",
       "      <td>41.800</td>\n",
       "    </tr>\n",
       "    <tr>\n",
       "      <th>49</th>\n",
       "      <td>1971</td>\n",
       "      <td>40.500</td>\n",
       "    </tr>\n",
       "    <tr>\n",
       "      <th>50</th>\n",
       "      <td>1970</td>\n",
       "      <td>38.800</td>\n",
       "    </tr>\n",
       "  </tbody>\n",
       "</table>\n",
       "</div>"
      ],
      "text/plain": [
       "    YEAR      CPI\n",
       "0   2020  258.811\n",
       "1   2019  255.657\n",
       "2   2018  251.107\n",
       "3   2017  245.120\n",
       "4   2016  240.008\n",
       "5   2015  237.017\n",
       "6   2014  236.736\n",
       "7   2013  232.957\n",
       "8   2012  229.594\n",
       "9   2011  224.939\n",
       "10  2010  218.056\n",
       "11  2009  214.537\n",
       "12  2008  215.303\n",
       "13  2007  207.342\n",
       "14  2006  201.600\n",
       "15  2005  195.300\n",
       "16  2004  188.900\n",
       "17  2003  183.960\n",
       "18  2002  179.880\n",
       "19  2001  177.100\n",
       "20  2000  172.200\n",
       "21  1999  166.600\n",
       "22  1998  163.000\n",
       "23  1997  160.500\n",
       "24  1996  156.900\n",
       "25  1995  152.400\n",
       "26  1994  148.200\n",
       "27  1993  144.500\n",
       "28  1992  140.300\n",
       "29  1991  136.200\n",
       "30  1990  130.700\n",
       "31  1989  124.000\n",
       "32  1988  118.300\n",
       "33  1987  113.600\n",
       "34  1986  109.600\n",
       "35  1985  107.600\n",
       "36  1984  103.900\n",
       "37  1983   99.600\n",
       "38  1982   96.500\n",
       "39  1981   90.900\n",
       "40  1980   82.400\n",
       "41  1979   72.600\n",
       "42  1978   65.200\n",
       "43  1977   60.600\n",
       "44  1976   56.900\n",
       "45  1975   53.800\n",
       "46  1974   49.300\n",
       "47  1973   44.400\n",
       "48  1972   41.800\n",
       "49  1971   40.500\n",
       "50  1970   38.800"
      ]
     },
     "execution_count": 42,
     "metadata": {},
     "output_type": "execute_result"
    }
   ],
   "source": [
    "cpi_df\n"
   ]
  },
  {
   "cell_type": "markdown",
   "metadata": {},
   "source": [
    "## CPI Function"
   ]
  },
  {
   "cell_type": "code",
   "execution_count": 40,
   "metadata": {},
   "outputs": [],
   "source": [
    "\n",
    "#The following function will return adjusted prior year abount based on CPI of current year and prior year.\n",
    "\n",
    "def cpi_fnc ( current_year,prior_year, prior_amount ):\n",
    "    \n",
    "    ret_val = 0\n",
    "    if type(prior_year) != 'int' or  type(current_year) != 'int':\n",
    "        try:\n",
    "            prior_year = int(prior_year)\n",
    "            current_year = int(current_year)\n",
    "        except:\n",
    "            print(f\"Type Error: Make sure to pass int values or strings that will convert to int\")\n",
    "        if len(cpi_df[cpi_df[\"YEAR\"] == prior_year]) == 0:\n",
    "                  print(f\"Year {str(prior_year)} does not exist in CPI table\")\n",
    "        elif len(cpi_df[cpi_df[\"YEAR\"] == current_year]) == 0:\n",
    "                  print(f\"Year {str(current_year)} does not exist in CPI table\")\n",
    "        else:\n",
    "            v_curr_year_cpi = cpi_df[cpi_df[\"YEAR\"] == current_year][\"CPI\"].values[0]\n",
    "            v_prior_year_cpi = cpi_df[cpi_df[\"YEAR\"] == prior_year][\"CPI\"].values[0]          \n",
    "            adjusted_amount = prior_amount * float((v_curr_year_cpi/v_prior_year_cpi))\n",
    "            ret_val = round(adjusted_amount,2)\n",
    "    return ret_val\n",
    "                "
   ]
  },
  {
   "cell_type": "code",
   "execution_count": 44,
   "metadata": {
    "scrolled": false
   },
   "outputs": [
    {
     "name": "stdout",
     "output_type": "stream",
     "text": [
      "22376214.41\n"
     ]
    }
   ],
   "source": [
    "#CPI Test Statement\n",
    "\n",
    "x = cpi_fnc(2020,2000,14888023)\n",
    "print(str(x))\n"
   ]
  },
  {
   "cell_type": "markdown",
   "metadata": {},
   "source": [
    "## Create Inflationary Function (Efrain, Mike-support)"
   ]
  },
  {
   "cell_type": "code",
   "execution_count": null,
   "metadata": {},
   "outputs": [],
   "source": [
    "# Create Inflationary function"
   ]
  },
  {
   "cell_type": "markdown",
   "metadata": {},
   "source": [
    "## Geo Code Park Attendance Data Frame(Mike, Anna-support)"
   ]
  },
  {
   "cell_type": "code",
   "execution_count": null,
   "metadata": {
    "scrolled": false
   },
   "outputs": [],
   "source": [
    "#Geocode work.  Utilizing existing Attendance \n",
    "np_master_df =pd.read_csv(\"data/national_park_master.csv\")\n",
    "np_master_df "
   ]
  },
  {
   "cell_type": "code",
   "execution_count": null,
   "metadata": {},
   "outputs": [],
   "source": [
    "#Connect to NP API parks endpoint to get park state and activities\n",
    "parkCode_list = []\n",
    "activities_list = []\n",
    "np_master_df[\"State\"] = \" \"\n",
    "np_master_df[\"Activity Count\"] = 0\n",
    "\n",
    "for index, row in np_master_df.iterrows():\n",
    "    params = { \"api_key\": np_key,\n",
    "               \"parkCode\":row[\"parkCode\"]\n",
    "             }\n",
    "    response = requests.get(np_endpoint_parks,params).json()\n",
    "    if len(response[\"data\"][0][\"addresses\"]) > 0:\n",
    "        np_master_df.loc[index,\"State\"] = response[\"data\"][0][\"addresses\"][0][\"stateCode\"]\n",
    "    np_master_df.loc[index,\"Activity Count\"] = len(response[\"data\"][0][\"activities\"])\n",
    "    for activity in response[\"data\"][0][\"activities\"]:\n",
    "        parkCode_list.append(row[\"parkCode\"])\n",
    "        activities_list.append(activity[\"name\"])\n",
    "        \n",
    "    \n",
    "\n",
    "    \n",
    "\n"
   ]
  },
  {
   "cell_type": "code",
   "execution_count": null,
   "metadata": {},
   "outputs": [],
   "source": [
    "#Build NP Activities List\n",
    "np_activities = pd.DataFrame ({\"parkCode\":parkCode_list, \"Activity\":activities_list})\n",
    "\n",
    "#Build Park Activies DataFrame\n",
    "np_activities_df = pd.DataFrame ({\"parkCode\":parkCode_list, \"Activity\":activities_list})\n",
    "np_activities_df[\"Cnt\"] = 1\n",
    "\n",
    "#Pivot on parkCode Not working\n",
    "#np_activities_pivot_df = pd.pivot(np_activities_df,index=\"parkCode\", columns = \"Activity\", values = \"Cnt\").reset_index()\n",
    "\n"
   ]
  },
  {
   "cell_type": "code",
   "execution_count": null,
   "metadata": {},
   "outputs": [],
   "source": [
    "np_activities"
   ]
  },
  {
   "cell_type": "code",
   "execution_count": null,
   "metadata": {},
   "outputs": [],
   "source": [
    "np_master_df"
   ]
  },
  {
   "cell_type": "code",
   "execution_count": null,
   "metadata": {},
   "outputs": [],
   "source": [
    "#creating data frame joining master table and detail visists\n",
    "#attendance_master_detail = pd.concat([national_park_df,np_master_df],join=\"inner\",keys=[\"Park Name\"],axis=1)\n",
    "\n",
    "attendance_master_detail = pd.merge(national_park_df, np_master_df, how=\"inner\", on=[\"Park Name\"])"
   ]
  },
  {
   "cell_type": "code",
   "execution_count": null,
   "metadata": {},
   "outputs": [],
   "source": [
    "attendance_master_detail.head(-10)"
   ]
  },
  {
   "cell_type": "code",
   "execution_count": null,
   "metadata": {},
   "outputs": [],
   "source": [
    "#Max_Year_attendance_df = attendence_df[attendence_df[\"Park Name\"].str.contains(\"NP\")]\n",
    "#Max_Year_attendance_df\n",
    "\n",
    "Max_Year_attendance_grp = attendance_master_detail.groupby(['Park Name'])['Year'].max()\n",
    "Max_Year_attendance_stg_df = Max_Year_attendance_grp.reset_index()\n",
    "#attendance_master_detail[attendance_master_detail['Year']==Max_Year_attendance_stg_df['Year']\n",
    "                        \n",
    "#Max_Year_attendance_df\n"
   ]
  },
  {
   "cell_type": "code",
   "execution_count": null,
   "metadata": {},
   "outputs": [],
   "source": [
    "Max_Year_attendance_stg_df"
   ]
  },
  {
   "cell_type": "code",
   "execution_count": null,
   "metadata": {},
   "outputs": [],
   "source": [
    "\n",
    "Max_Year_stg_df = pd.merge(Max_Year_attendance_stg_df, np_master_df, how=\"inner\", on=[\"Park Name\"])\n",
    "\n",
    "Max_Year_df = pd.merge(Max_Year_stg_df,national_park_df,how=\"inner\", on=[\"Park Name\",\"Year\"])\n",
    "Max_Year_df"
   ]
  },
  {
   "cell_type": "code",
   "execution_count": null,
   "metadata": {},
   "outputs": [],
   "source": [
    "## Merge Data add Custom fields (Efrain, Kevin, Ana)"
   ]
  },
  {
   "cell_type": "code",
   "execution_count": null,
   "metadata": {},
   "outputs": [],
   "source": [
    "# Merge data frames add "
   ]
  },
  {
   "cell_type": "code",
   "execution_count": null,
   "metadata": {},
   "outputs": [],
   "source": [
    " #Create any custom fields needed to partition data for analysis"
   ]
  },
  {
   "cell_type": "code",
   "execution_count": null,
   "metadata": {},
   "outputs": [],
   "source": [
    "#Duplicate all monetary fieldfs adjusting for inflation"
   ]
  },
  {
   "cell_type": "markdown",
   "metadata": {},
   "source": [
    "## Create Current Year Summary Attendance Statistics (Ana - Mike Support)"
   ]
  },
  {
   "cell_type": "code",
   "execution_count": null,
   "metadata": {},
   "outputs": [],
   "source": [
    "# Top 10 by visit 2019\n",
    "\n",
    "#Max_Year_df.groupby([\"Park Name\",\"Year\",\"Visits\"]).size().sort_values(ascending=False)\n",
    "\n",
    "#Max_Year_df.sort_values('Visits', ascending=False).head(10)\n",
    "\n",
    "Max_Year_df[[\"Park Name\",\"Year\",\"Visits\"]].sort_values(by=[\"Visits\"],ascending=False).head(10)"
   ]
  },
  {
   "cell_type": "code",
   "execution_count": null,
   "metadata": {},
   "outputs": [],
   "source": [
    "#Top 10 least visited Parks for 2019\n",
    "Max_Year_df[[\"Park Name\",\"Year\",\"Visits\"]].sort_values(by=[\"Visits\"]).head(10)"
   ]
  },
  {
   "cell_type": "code",
   "execution_count": null,
   "metadata": {},
   "outputs": [],
   "source": []
  },
  {
   "cell_type": "code",
   "execution_count": null,
   "metadata": {},
   "outputs": [],
   "source": [
    "Max_Year_df\n",
    "locations= Max_Year_df[['lat', 'lon']].astype(float)\n",
    "locations"
   ]
  },
  {
   "cell_type": "code",
   "execution_count": null,
   "metadata": {
    "scrolled": true
   },
   "outputs": [],
   "source": [
    "#Heat Map All National parks parks.  Intensity = Visits\n",
    "#attendance_master_detail.head()\n",
    "\n",
    "\n",
    "\n",
    "gmaps.configure(api_key=g_key)\n",
    "# Store 'Lat' and 'Lng' into  locations \n",
    "locations= Max_Year_df[['lat', 'lon']].astype(float)\n",
    "#weights=Max_Year_df['Visits'].astype(float)\n",
    "# Convert Poverty Rate to float and store\n",
    "# HINT: be sure to handle NaN values\n",
    "#census_data_complete = census_data_complete.dropna()\n",
    "visits_all = Max_Year_df[\"Visits\"].astype(float)\n",
    "max_visits = Max_Year_df[\"Visits\"].max() \n",
    "#max_visits= Max_Year_df[\"Visits\"].max()\n",
    "\n",
    "# Create a poverty Heatmap layer\n",
    "fig = gmaps.figure()\n",
    "\n",
    "heat_layer = gmaps.heatmap_layer(locations, weights=visits_all, \n",
    "                                 dissipating=False, max_intensity=max_visits,\n",
    "                                 point_radius = 1)\n",
    "\n",
    "fig.add_layer(heat_layer)\n",
    "\n",
    "fig"
   ]
  },
  {
   "cell_type": "code",
   "execution_count": null,
   "metadata": {},
   "outputs": [],
   "source": []
  },
  {
   "cell_type": "markdown",
   "metadata": {},
   "source": [
    "## Create Heat Maps to Visualize Cost and Attendance (Kevin -  Mike support)"
   ]
  },
  {
   "cell_type": "code",
   "execution_count": null,
   "metadata": {},
   "outputs": [],
   "source": [
    "## Heat Map By Operating Costs"
   ]
  },
  {
   "cell_type": "code",
   "execution_count": null,
   "metadata": {},
   "outputs": [],
   "source": [
    "##Heat Map by Attendance"
   ]
  },
  {
   "cell_type": "markdown",
   "metadata": {},
   "source": [
    "## Scater/Line Plots Operating Costs versus Attendance (Ana and Efrain)  Be creative "
   ]
  },
  {
   "cell_type": "code",
   "execution_count": null,
   "metadata": {},
   "outputs": [],
   "source": []
  },
  {
   "cell_type": "code",
   "execution_count": null,
   "metadata": {},
   "outputs": [],
   "source": []
  },
  {
   "cell_type": "markdown",
   "metadata": {},
   "source": [
    "## Trend Analysis (Compare Productivity Year Over Year) Mike and Kevin"
   ]
  },
  {
   "cell_type": "code",
   "execution_count": null,
   "metadata": {},
   "outputs": [],
   "source": []
  },
  {
   "cell_type": "code",
   "execution_count": null,
   "metadata": {},
   "outputs": [],
   "source": []
  },
  {
   "cell_type": "markdown",
   "metadata": {},
   "source": []
  }
 ],
 "metadata": {
  "kernelspec": {
   "display_name": "Python 3",
   "language": "python",
   "name": "python3"
  },
  "language_info": {
   "codemirror_mode": {
    "name": "ipython",
    "version": 3
   },
   "file_extension": ".py",
   "mimetype": "text/x-python",
   "name": "python",
   "nbconvert_exporter": "python",
   "pygments_lexer": "ipython3",
   "version": "3.8.5"
  }
 },
 "nbformat": 4,
 "nbformat_minor": 4
}
