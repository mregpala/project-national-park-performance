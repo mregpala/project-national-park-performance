{
 "cells": [
  {
   "cell_type": "markdown",
   "metadata": {},
   "source": [
    "# National Park Analysis"
   ]
  },
  {
   "cell_type": "code",
   "execution_count": 1,
   "metadata": {
    "scrolled": true
   },
   "outputs": [
    {
     "ename": "NameError",
     "evalue": "name 'module_path' is not defined",
     "output_type": "error",
     "traceback": [
      "\u001b[1;31m---------------------------------------------------------------------------\u001b[0m",
      "\u001b[1;31mNameError\u001b[0m                                 Traceback (most recent call last)",
      "\u001b[1;32m<ipython-input-1-752e5a09445e>\u001b[0m in \u001b[0;36m<module>\u001b[1;34m\u001b[0m\n\u001b[0;32m     15\u001b[0m \u001b[1;33m\u001b[0m\u001b[0m\n\u001b[0;32m     16\u001b[0m \u001b[1;31m#Include api directory in path\u001b[0m\u001b[1;33m\u001b[0m\u001b[1;33m\u001b[0m\u001b[1;33m\u001b[0m\u001b[0m\n\u001b[1;32m---> 17\u001b[1;33m \u001b[1;32mif\u001b[0m \u001b[0mmodule_path\u001b[0m \u001b[1;32mnot\u001b[0m \u001b[1;32min\u001b[0m \u001b[0msys\u001b[0m\u001b[1;33m.\u001b[0m\u001b[0mpath\u001b[0m\u001b[1;33m:\u001b[0m\u001b[1;33m\u001b[0m\u001b[1;33m\u001b[0m\u001b[0m\n\u001b[0m\u001b[0;32m     18\u001b[0m     \u001b[0msys\u001b[0m\u001b[1;33m.\u001b[0m\u001b[0mpath\u001b[0m\u001b[1;33m.\u001b[0m\u001b[0mappend\u001b[0m\u001b[1;33m(\u001b[0m\u001b[1;34m\"api\"\u001b[0m\u001b[1;33m)\u001b[0m\u001b[1;33m\u001b[0m\u001b[1;33m\u001b[0m\u001b[0m\n\u001b[0;32m     19\u001b[0m \u001b[1;33m\u001b[0m\u001b[0m\n",
      "\u001b[1;31mNameError\u001b[0m: name 'module_path' is not defined"
     ]
    }
   ],
   "source": [
    "#import libraries keys and setup data direcotry\n",
    "import matplotlib.pyplot as plt\n",
    "import pandas as pd\n",
    "import numpy as np\n",
    "import requests\n",
    "from datetime import date\n",
    "import os\n",
    "import sys\n",
    "import random\n",
    "from scipy.stats import linregress\n",
    "from scipy.stats import normaltest\n",
    "from citipy import citipy\n",
    "import json\n",
    "\n",
    "\n",
    "#Include api directory in path\n",
    "if module_path not in sys.path:\n",
    "    sys.path.append(\"api\")\n",
    "\n",
    "# Import API key\n",
    "from config import g_key\n",
    "\n",
    "\n"
   ]
  },
  {
   "cell_type": "markdown",
   "metadata": {},
   "source": [
    "## Import Park Attendance Data (Ana, Kevin-support)"
   ]
  },
  {
   "cell_type": "code",
   "execution_count": null,
   "metadata": {},
   "outputs": [],
   "source": [
    "#Import in park atendnce excel/csv  "
   ]
  },
  {
   "cell_type": "code",
   "execution_count": 3,
   "metadata": {},
   "outputs": [
    {
     "data": {
      "text/html": [
       "<div>\n",
       "<style scoped>\n",
       "    .dataframe tbody tr th:only-of-type {\n",
       "        vertical-align: middle;\n",
       "    }\n",
       "\n",
       "    .dataframe tbody tr th {\n",
       "        vertical-align: top;\n",
       "    }\n",
       "\n",
       "    .dataframe thead th {\n",
       "        text-align: right;\n",
       "    }\n",
       "</style>\n",
       "<table border=\"1\" class=\"dataframe\">\n",
       "  <thead>\n",
       "    <tr style=\"text-align: right;\">\n",
       "      <th></th>\n",
       "      <th>Park Name</th>\n",
       "      <th>Year</th>\n",
       "      <th>Visits</th>\n",
       "    </tr>\n",
       "  </thead>\n",
       "  <tbody>\n",
       "    <tr>\n",
       "      <th>0</th>\n",
       "      <td>Abraham Lincoln Birthplace NHP</td>\n",
       "      <td>2019</td>\n",
       "      <td>238226</td>\n",
       "    </tr>\n",
       "    <tr>\n",
       "      <th>1</th>\n",
       "      <td>Abraham Lincoln Birthplace NHP</td>\n",
       "      <td>1979</td>\n",
       "      <td>271231</td>\n",
       "    </tr>\n",
       "    <tr>\n",
       "      <th>2</th>\n",
       "      <td>Abraham Lincoln Birthplace NHP</td>\n",
       "      <td>1980</td>\n",
       "      <td>239074</td>\n",
       "    </tr>\n",
       "    <tr>\n",
       "      <th>3</th>\n",
       "      <td>Abraham Lincoln Birthplace NHP</td>\n",
       "      <td>1981</td>\n",
       "      <td>252245</td>\n",
       "    </tr>\n",
       "    <tr>\n",
       "      <th>4</th>\n",
       "      <td>Abraham Lincoln Birthplace NHP</td>\n",
       "      <td>1982</td>\n",
       "      <td>318707</td>\n",
       "    </tr>\n",
       "    <tr>\n",
       "      <th>...</th>\n",
       "      <td>...</td>\n",
       "      <td>...</td>\n",
       "      <td>...</td>\n",
       "    </tr>\n",
       "    <tr>\n",
       "      <th>13738</th>\n",
       "      <td>Zion NP</td>\n",
       "      <td>2014</td>\n",
       "      <td>3189696</td>\n",
       "    </tr>\n",
       "    <tr>\n",
       "      <th>13739</th>\n",
       "      <td>Zion NP</td>\n",
       "      <td>2015</td>\n",
       "      <td>3648846</td>\n",
       "    </tr>\n",
       "    <tr>\n",
       "      <th>13740</th>\n",
       "      <td>Zion NP</td>\n",
       "      <td>2016</td>\n",
       "      <td>4295127</td>\n",
       "    </tr>\n",
       "    <tr>\n",
       "      <th>13741</th>\n",
       "      <td>Zion NP</td>\n",
       "      <td>2017</td>\n",
       "      <td>4504812</td>\n",
       "    </tr>\n",
       "    <tr>\n",
       "      <th>13742</th>\n",
       "      <td>Zion NP</td>\n",
       "      <td>2018</td>\n",
       "      <td>4320033</td>\n",
       "    </tr>\n",
       "  </tbody>\n",
       "</table>\n",
       "<p>13743 rows × 3 columns</p>\n",
       "</div>"
      ],
      "text/plain": [
       "                            Park Name  Year   Visits\n",
       "0      Abraham Lincoln Birthplace NHP  2019   238226\n",
       "1      Abraham Lincoln Birthplace NHP  1979   271231\n",
       "2      Abraham Lincoln Birthplace NHP  1980   239074\n",
       "3      Abraham Lincoln Birthplace NHP  1981   252245\n",
       "4      Abraham Lincoln Birthplace NHP  1982   318707\n",
       "...                               ...   ...      ...\n",
       "13738                         Zion NP  2014  3189696\n",
       "13739                         Zion NP  2015  3648846\n",
       "13740                         Zion NP  2016  4295127\n",
       "13741                         Zion NP  2017  4504812\n",
       "13742                         Zion NP  2018  4320033\n",
       "\n",
       "[13743 rows x 3 columns]"
      ]
     },
     "execution_count": 3,
     "metadata": {},
     "output_type": "execute_result"
    }
   ],
   "source": [
    "# Import the park atendence csv file\n",
    "attendence_df = pd.read_csv(\"data/Visists 1979-2019 v2.csv\")\n",
    "attendence_df"
   ]
  },
  {
   "cell_type": "code",
   "execution_count": 15,
   "metadata": {},
   "outputs": [],
   "source": [
    "#Data cleanse."
   ]
  },
  {
   "cell_type": "code",
   "execution_count": 4,
   "metadata": {},
   "outputs": [
    {
     "data": {
      "text/html": [
       "<div>\n",
       "<style scoped>\n",
       "    .dataframe tbody tr th:only-of-type {\n",
       "        vertical-align: middle;\n",
       "    }\n",
       "\n",
       "    .dataframe tbody tr th {\n",
       "        vertical-align: top;\n",
       "    }\n",
       "\n",
       "    .dataframe thead th {\n",
       "        text-align: right;\n",
       "    }\n",
       "</style>\n",
       "<table border=\"1\" class=\"dataframe\">\n",
       "  <thead>\n",
       "    <tr style=\"text-align: right;\">\n",
       "      <th></th>\n",
       "      <th>Park Name</th>\n",
       "      <th>Year</th>\n",
       "      <th>Visits</th>\n",
       "    </tr>\n",
       "  </thead>\n",
       "  <tbody>\n",
       "    <tr>\n",
       "      <th>41</th>\n",
       "      <td>Acadia NP</td>\n",
       "      <td>2019</td>\n",
       "      <td>3437286</td>\n",
       "    </tr>\n",
       "    <tr>\n",
       "      <th>42</th>\n",
       "      <td>Acadia NP</td>\n",
       "      <td>1979</td>\n",
       "      <td>2787366</td>\n",
       "    </tr>\n",
       "    <tr>\n",
       "      <th>43</th>\n",
       "      <td>Acadia NP</td>\n",
       "      <td>1980</td>\n",
       "      <td>2779666</td>\n",
       "    </tr>\n",
       "    <tr>\n",
       "      <th>44</th>\n",
       "      <td>Acadia NP</td>\n",
       "      <td>1981</td>\n",
       "      <td>2997972</td>\n",
       "    </tr>\n",
       "    <tr>\n",
       "      <th>45</th>\n",
       "      <td>Acadia NP</td>\n",
       "      <td>1982</td>\n",
       "      <td>3572114</td>\n",
       "    </tr>\n",
       "    <tr>\n",
       "      <th>...</th>\n",
       "      <td>...</td>\n",
       "      <td>...</td>\n",
       "      <td>...</td>\n",
       "    </tr>\n",
       "    <tr>\n",
       "      <th>13738</th>\n",
       "      <td>Zion NP</td>\n",
       "      <td>2014</td>\n",
       "      <td>3189696</td>\n",
       "    </tr>\n",
       "    <tr>\n",
       "      <th>13739</th>\n",
       "      <td>Zion NP</td>\n",
       "      <td>2015</td>\n",
       "      <td>3648846</td>\n",
       "    </tr>\n",
       "    <tr>\n",
       "      <th>13740</th>\n",
       "      <td>Zion NP</td>\n",
       "      <td>2016</td>\n",
       "      <td>4295127</td>\n",
       "    </tr>\n",
       "    <tr>\n",
       "      <th>13741</th>\n",
       "      <td>Zion NP</td>\n",
       "      <td>2017</td>\n",
       "      <td>4504812</td>\n",
       "    </tr>\n",
       "    <tr>\n",
       "      <th>13742</th>\n",
       "      <td>Zion NP</td>\n",
       "      <td>2018</td>\n",
       "      <td>4320033</td>\n",
       "    </tr>\n",
       "  </tbody>\n",
       "</table>\n",
       "<p>2786 rows × 3 columns</p>\n",
       "</div>"
      ],
      "text/plain": [
       "       Park Name  Year   Visits\n",
       "41     Acadia NP  2019  3437286\n",
       "42     Acadia NP  1979  2787366\n",
       "43     Acadia NP  1980  2779666\n",
       "44     Acadia NP  1981  2997972\n",
       "45     Acadia NP  1982  3572114\n",
       "...          ...   ...      ...\n",
       "13738    Zion NP  2014  3189696\n",
       "13739    Zion NP  2015  3648846\n",
       "13740    Zion NP  2016  4295127\n",
       "13741    Zion NP  2017  4504812\n",
       "13742    Zion NP  2018  4320033\n",
       "\n",
       "[2786 rows x 3 columns]"
      ]
     },
     "execution_count": 4,
     "metadata": {},
     "output_type": "execute_result"
    }
   ],
   "source": [
    "# Filter through our attendence DataFrame to fibd only our National Parks\n",
    "national_park_df = attendence_df[attendence_df[\"Park Name\"].str.contains(\"NP\")]\n",
    "national_park_df"
   ]
  },
  {
   "cell_type": "markdown",
   "metadata": {},
   "source": [
    "## Import Operating Cost Data (Kevin)"
   ]
  },
  {
   "cell_type": "code",
   "execution_count": 7,
   "metadata": {},
   "outputs": [],
   "source": [
    "#Import operating cost into data frame \n",
    "Budget2008_df = pd.read_excel(\"data/Nation_Park_Budget/National_Park_Budget_2008.xlsx\")\n",
    "Budget2007_df = pd.read_excel(\"data/Nation_Park_Budget/National_Park_Budget_2007.xlsx\")\n",
    "Budget2006_df = pd.read_excel(\"data/Nation_Park_Budget/National_Park_Budget_2006.xlsx\")\n",
    "Budget2009_df = pd.read_excel(\"data/Nation_Park_Budget/National_Park_Budget_2009.xlsx\")\n",
    "Budget2010_df = pd.read_excel(\"data/Nation_Park_Budget/National_Park_Budget_2010.xlsx\")\n",
    "Budget2011_df = pd.read_excel(\"data/Nation_Park_Budget/National_Park_Budget_2011.xlsx\")\n",
    "Budget2012_df = pd.read_excel(\"data/Nation_Park_Budget/National_Park_Budget_2012.xlsx\")\n",
    "Budget2013_df = pd.read_excel(\"data/Nation_Park_Budget/National_Park_Budget_2013.xlsx\")\n",
    "Budget2014_df = pd.read_excel(\"data/Nation_Park_Budget/National_Park_Budget_2014.xlsx\")\n",
    "Budget2015_df = pd.read_excel(\"data/Nation_Park_Budget/National_Park_Budget_2015.xlsx\")\n",
    "Budget2017_df = pd.read_excel(\"data/Nation_Park_Budget/National_Park_Budget_2017.xlsx\")\n",
    "Budget2018_df = pd.read_excel(\"data/Nation_Park_Budget/National_Park_Budget_2018.xlsx\")\n",
    "Budget2019_df = pd.read_excel(\"data/Nation_Park_Budget/National_Park_Budget_2019.xlsx\")\n",
    "Budget2020_df = pd.read_excel(\"data/Nation_Park_Budget/National_Park_Budget_2020.xlsx\")\n",
    "Budget2021_df = pd.read_excel(\"data/Nation_Park_Budget/National_Park_Budget_2021.xlsx\")"
   ]
  },
  {
   "cell_type": "code",
   "execution_count": 8,
   "metadata": {},
   "outputs": [],
   "source": [
    "#Data cleansing\n",
    "Clean_Budget2007_df = Budget2007_df.loc[:,[\"OPERATION OF THE NAT'L PARK SYSTEM\",\"FY 2007 Request\"]]\n",
    "Clean_Budget2008_df = Budget2008_df.loc[:,[\"OPERATION OF THE NAT'L PARK SYSTEM\",\"FY 2008 President's Request\"]]\n",
    "Clean_Budget2006_df = Budget2006_df.loc[:,[\"OPERATION OF THE NAT'L PARK SYSTEM\",\"FY 2006 Presiden's Request\"]]\n",
    "Clean_Budget2009_df = Budget2009_df.loc[:,[\"Operation of National Park System\",\"FY 2009 Presidents Request\"]]\n",
    "Clean_Budget2010_df = Budget2010_df.loc[:,[\"Operation of Nat Park\",\"FY 2010 Preisdent Request\"]]\n",
    "Clean_Budget2011_df = Budget2011_df.loc[:,[\"Operation of The National Park System\",\"FY 2011 President's Request\"]]\n",
    "Clean_Budget2012_df = Budget2012_df.loc[:,[\"OPERATION OF THE NATIONAL PARK SYSTEM\",\"2012 Presidents Requests\"]]\n",
    "Clean_Budget2013_df = Budget2013_df.loc[:,[\"OPERATION OF THE NATIONAL PARK SYSTEM\",\"FY 2013 Presidents Request\"]]\n",
    "Clean_Budget2014_df = Budget2014_df.loc[:,[\"OPERATION OF THE NATIONAL PARK SYSTEM\",\"2014 Requested\"]]\n",
    "Clean_Budget2015_df = Budget2015_df.loc[:,[\"OPERATION OF THE NATIONAL PARK SYSTEM\",\"2015 Reques t\"]]\n",
    "Clean_Budget2017_df = Budget2017_df.loc[:,[\"OPERATION OF THE NATIONAL PARK SYSTEM\",\"FY 2017 Request\"]]\n",
    "Clean_Budget2018_df = Budget2018_df.loc[:,[\"OPERATION OF THE NATIONAL PARK SYSTEM\\nORGANIZATIONS\",\"FY 2018\\nRequest\"]]\n",
    "Clean_Budget2019_df = Budget2019_df.loc[:,[\"OPERATION OF THE NATIONAL PARK SYSTEM ORGANIZATIONS\",\"FY 2019\\nRequest9\"]]\n",
    "Clean_Budget2021_df = Budget2021_df.loc[:,[\"OPERATION OF THE NATIONAL PARK SYSTEM ORGANIZATIONS\", \" FY 2021\\nRequest\"]]\n",
    "Clean_Budget2020_df = Budget2020_df.loc[:,[\"OPERATION OF THE NATIONAL PARK SYSTEM ORGANIZATIONS \", \"FY 2020 Request \"]]\n",
    "\n",
    "\n"
   ]
  },
  {
   "cell_type": "code",
   "execution_count": 9,
   "metadata": {},
   "outputs": [],
   "source": [
    "# Adding New Column For Year\n",
    "Clean_Budget2007_df[\"Year\"]=2007\n",
    "Clean_Budget2008_df[\"Year\"]=2008\n",
    "Clean_Budget2006_df[\"Year\"]=2006\n",
    "Clean_Budget2009_df[\"Year\"]=2009\n",
    "Clean_Budget2010_df[\"Year\"]=2010\n",
    "Clean_Budget2011_df[\"Year\"]=2011\n",
    "Clean_Budget2012_df[\"Year\"]=2012\n",
    "Clean_Budget2013_df[\"Year\"]=2013\n",
    "Clean_Budget2014_df[\"Year\"]=2014\n",
    "Clean_Budget2015_df[\"Year\"]=2015\n",
    "Clean_Budget2017_df[\"Year\"]=2017\n",
    "Clean_Budget2018_df[\"Year\"]=2018\n",
    "Clean_Budget2019_df[\"Year\"]=2019\n",
    "Clean_Budget2020_df[\"Year\"]=2020\n",
    "Clean_Budget2021_df[\"Year\"]=2021\n"
   ]
  },
  {
   "cell_type": "code",
   "execution_count": 11,
   "metadata": {},
   "outputs": [],
   "source": [
    "# Making the Same name for the columns from different years\n",
    "Clean_Budget2007_df = Clean_Budget2007_df.rename(columns={\"OPERATION OF THE NAT'L PARK SYSTEM\":\"Park Name\",\"FY 2007 Request\":\"Budget Request\"})\n",
    "Clean_Budget2008_df = Clean_Budget2008_df.rename(columns={\"OPERATION OF THE NAT'L PARK SYSTEM\":\"Park Name\",\"FY 2008 President's Request\":\"Budget Request\"})\n",
    "Clean_Budget2006_df = Clean_Budget2006_df.rename(columns={\"OPERATION OF THE NAT'L PARK SYSTEM\":\"Park Name\",\"FY 2006 Presiden's Request\":\"Budget Request\"})\n",
    "Clean_Budget2009_df = Clean_Budget2009_df.rename(columns={\"Operation of National Park System\":\"Park Name\",\"FY 2009 Presidents Request\":\"Budget Request\"})\n",
    "Clean_Budget2010_df = Clean_Budget2010_df.rename(columns={\"Operation of Nat Park\":\"Park Name\",\"FY 2010 Preisdent Request\":\"Budget Request\"})\n",
    "Clean_Budget2011_df = Clean_Budget2011_df.rename(columns={\"Operation of The National Park System\":\"Park Name\",\"FY 2011 President's Request\":\"Budget Request\"})\n",
    "Clean_Budget2012_df = Clean_Budget2012_df.rename(columns={\"OPERATION OF THE NATIONAL PARK SYSTEM\":\"Park Name\",\"2012 Presidents Requests\":\"Budget Request\"})\n",
    "Clean_Budget2013_df = Clean_Budget2013_df.rename(columns={\"OPERATION OF THE NATIONAL PARK SYSTEM\":\"Park Name\",\"FY 2013 Presidents Request\":\"Budget Request\"})\n",
    "Clean_Budget2014_df = Clean_Budget2014_df.rename(columns={\"OPERATION OF THE NATIONAL PARK SYSTEM\":\"Park Name\",\"2014 Requested\":\"Budget Request\"})\n",
    "Clean_Budget2015_df = Clean_Budget2015_df.rename(columns={\"OPERATION OF THE NATIONAL PARK SYSTEM\":\"Park Name\",\"2015 Reques t\":\"Budget Request\"})\n",
    "Clean_Budget2017_df = Clean_Budget2017_df.rename(columns={\"OPERATION OF THE NATIONAL PARK SYSTEM\":\"Park Name\",\"FY 2017 Request\":\"Budget Request\"})\n",
    "Clean_Budget2018_df = Clean_Budget2018_df.rename(columns={\"OPERATION OF THE NATIONAL PARK SYSTEM\\nORGANIZATIONS\":\"Park Name\",\"FY 2018\\nRequest\":\"Budget Request\"})\n",
    "Clean_Budget2019_df = Clean_Budget2019_df.rename(columns={\"OPERATION OF THE NATIONAL PARK SYSTEM ORGANIZATIONS\":\"Park Name\",\"FY 2019\\nRequest9\":\"Budget Request\"})\n",
    "Clean_Budget2021_df = Clean_Budget2021_df.rename(columns={\"OPERATION OF THE NATIONAL PARK SYSTEM ORGANIZATIONS\":\"Park Name\", \" FY 2021\\nRequest\":\"Budget Request\"})\n",
    "Clean_Budget2020_df = Clean_Budget2020_df.rename(columns={\"OPERATION OF THE NATIONAL PARK SYSTEM ORGANIZATIONS \":\"Park Name\", \"FY 2020 Request \":\"Budget Request\"})"
   ]
  },
  {
   "cell_type": "code",
   "execution_count": 12,
   "metadata": {},
   "outputs": [
    {
     "data": {
      "text/html": [
       "<div>\n",
       "<style scoped>\n",
       "    .dataframe tbody tr th:only-of-type {\n",
       "        vertical-align: middle;\n",
       "    }\n",
       "\n",
       "    .dataframe tbody tr th {\n",
       "        vertical-align: top;\n",
       "    }\n",
       "\n",
       "    .dataframe thead th {\n",
       "        text-align: right;\n",
       "    }\n",
       "</style>\n",
       "<table border=\"1\" class=\"dataframe\">\n",
       "  <thead>\n",
       "    <tr style=\"text-align: right;\">\n",
       "      <th></th>\n",
       "      <th>Park Name</th>\n",
       "      <th>Budget Request</th>\n",
       "      <th>Year</th>\n",
       "    </tr>\n",
       "  </thead>\n",
       "  <tbody>\n",
       "    <tr>\n",
       "      <th>1</th>\n",
       "      <td>Acadia NP</td>\n",
       "      <td>6545</td>\n",
       "      <td>2007</td>\n",
       "    </tr>\n",
       "    <tr>\n",
       "      <th>12</th>\n",
       "      <td>Arches NP</td>\n",
       "      <td>1251</td>\n",
       "      <td>2007</td>\n",
       "    </tr>\n",
       "    <tr>\n",
       "      <th>17</th>\n",
       "      <td>Badlands NP</td>\n",
       "      <td>3607</td>\n",
       "      <td>2007</td>\n",
       "    </tr>\n",
       "    <tr>\n",
       "      <th>21</th>\n",
       "      <td>Big Bend NP</td>\n",
       "      <td>5759</td>\n",
       "      <td>2007</td>\n",
       "    </tr>\n",
       "    <tr>\n",
       "      <th>27</th>\n",
       "      <td>Biscayne NP</td>\n",
       "      <td>3648</td>\n",
       "      <td>2007</td>\n",
       "    </tr>\n",
       "    <tr>\n",
       "      <th>...</th>\n",
       "      <td>...</td>\n",
       "      <td>...</td>\n",
       "      <td>...</td>\n",
       "    </tr>\n",
       "    <tr>\n",
       "      <th>353</th>\n",
       "      <td>Wrangell-Saint Elias NP&amp;Pres</td>\n",
       "      <td>5634</td>\n",
       "      <td>2020</td>\n",
       "    </tr>\n",
       "    <tr>\n",
       "      <th>354</th>\n",
       "      <td>Yellowstone NP</td>\n",
       "      <td>34410</td>\n",
       "      <td>2020</td>\n",
       "    </tr>\n",
       "    <tr>\n",
       "      <th>355</th>\n",
       "      <td>Yosemite NP</td>\n",
       "      <td>30032</td>\n",
       "      <td>2020</td>\n",
       "    </tr>\n",
       "    <tr>\n",
       "      <th>357</th>\n",
       "      <td>Yukon-Charley Rivers NPres</td>\n",
       "      <td>1768</td>\n",
       "      <td>2020</td>\n",
       "    </tr>\n",
       "    <tr>\n",
       "      <th>358</th>\n",
       "      <td>Zion NP</td>\n",
       "      <td>7515</td>\n",
       "      <td>2020</td>\n",
       "    </tr>\n",
       "  </tbody>\n",
       "</table>\n",
       "<p>936 rows × 3 columns</p>\n",
       "</div>"
      ],
      "text/plain": [
       "                         Park Name Budget Request  Year\n",
       "1                        Acadia NP           6545  2007\n",
       "12                       Arches NP           1251  2007\n",
       "17                     Badlands NP           3607  2007\n",
       "21                     Big Bend NP           5759  2007\n",
       "27                     Biscayne NP           3648  2007\n",
       "..                             ...            ...   ...\n",
       "353  Wrangell-Saint Elias NP&Pres            5634  2020\n",
       "354                Yellowstone NP           34410  2020\n",
       "355                   Yosemite NP           30032  2020\n",
       "357    Yukon-Charley Rivers NPres            1768  2020\n",
       "358                       Zion NP            7515  2020\n",
       "\n",
       "[936 rows x 3 columns]"
      ]
     },
     "execution_count": 12,
     "metadata": {},
     "output_type": "execute_result"
    }
   ],
   "source": [
    "# Merge, drop NA, then look for only NP\n",
    "Frames  = [Clean_Budget2007_df,Clean_Budget2006_df, Clean_Budget2008_df,Clean_Budget2009_df, Clean_Budget2010_df,Clean_Budget2011_df, Clean_Budget2012_df,Clean_Budget2013_df, Clean_Budget2014_df,Clean_Budget2015_df, Clean_Budget2021_df,Clean_Budget2017_df, Clean_Budget2018_df,Clean_Budget2019_df, Clean_Budget2020_df]\n",
    "Total_Budget_df= pd.concat(Frames)\n",
    "Total_Budget_df.dropna( inplace=True )\n",
    "Final_Budget_df = Total_Budget_df[Total_Budget_df[\"Park Name\"].str.contains(\"NP\")]\n",
    "Final_Budget_df\n",
    "\n"
   ]
  },
  {
   "cell_type": "markdown",
   "metadata": {},
   "source": [
    "## Create Inflationary Function (Efrain, Mike-support)"
   ]
  },
  {
   "cell_type": "code",
   "execution_count": 18,
   "metadata": {},
   "outputs": [],
   "source": [
    "# Create Inflationary function"
   ]
  },
  {
   "cell_type": "markdown",
   "metadata": {},
   "source": [
    "## Geo Code Park Attendance Data Frame(Mike, Anna-support)"
   ]
  },
  {
   "cell_type": "code",
   "execution_count": 19,
   "metadata": {},
   "outputs": [],
   "source": [
    "#Geocode work.  Utilizing existing Attendance "
   ]
  },
  {
   "cell_type": "markdown",
   "metadata": {},
   "source": [
    "## Merge Data add Custom fields (Efrain, Kevin, Ana)"
   ]
  },
  {
   "cell_type": "code",
   "execution_count": null,
   "metadata": {},
   "outputs": [],
   "source": [
    "# Merge data frames add "
   ]
  },
  {
   "cell_type": "code",
   "execution_count": 16,
   "metadata": {},
   "outputs": [],
   "source": [
    " #Create any custom fields needed to partition data for analysis"
   ]
  },
  {
   "cell_type": "code",
   "execution_count": null,
   "metadata": {},
   "outputs": [],
   "source": [
    "#Duplicate all monetary fieldfs adjusting for inflation"
   ]
  },
  {
   "cell_type": "markdown",
   "metadata": {},
   "source": [
    "## Create Heat Maps to Visualize Cost and Attendance (Kevin -  Mike support)"
   ]
  },
  {
   "cell_type": "code",
   "execution_count": null,
   "metadata": {},
   "outputs": [],
   "source": [
    "## Heat Map By Operating Costs"
   ]
  },
  {
   "cell_type": "code",
   "execution_count": 17,
   "metadata": {},
   "outputs": [],
   "source": [
    "##Heat Map by Attendance"
   ]
  },
  {
   "cell_type": "markdown",
   "metadata": {},
   "source": [
    "## Scater/Line Plots Operating Costs versus Attendance (Ana and Efrain)  Be creative "
   ]
  },
  {
   "cell_type": "code",
   "execution_count": null,
   "metadata": {},
   "outputs": [],
   "source": []
  },
  {
   "cell_type": "code",
   "execution_count": null,
   "metadata": {},
   "outputs": [],
   "source": []
  },
  {
   "cell_type": "markdown",
   "metadata": {},
   "source": [
    "## Trend Analysis (Compare Productivity Year Over Year) Mike and Kevin"
   ]
  },
  {
   "cell_type": "code",
   "execution_count": null,
   "metadata": {},
   "outputs": [],
   "source": []
  },
  {
   "cell_type": "code",
   "execution_count": null,
   "metadata": {},
   "outputs": [],
   "source": []
  },
  {
   "cell_type": "markdown",
   "metadata": {},
   "source": []
  }
 ],
 "metadata": {
  "kernelspec": {
   "display_name": "Python 3",
   "language": "python",
   "name": "python3"
  },
  "language_info": {
   "codemirror_mode": {
    "name": "ipython",
    "version": 3
   },
   "file_extension": ".py",
   "mimetype": "text/x-python",
   "name": "python",
   "nbconvert_exporter": "python",
   "pygments_lexer": "ipython3",
   "version": "3.8.5"
  }
 },
 "nbformat": 4,
 "nbformat_minor": 4
}
