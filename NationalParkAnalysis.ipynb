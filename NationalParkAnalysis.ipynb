{
 "cells": [
  {
   "cell_type": "markdown",
   "metadata": {},
   "source": [
    "# National Park Analysis"
   ]
  },
  {
   "cell_type": "code",
   "execution_count": 1,
   "metadata": {
    "scrolled": true
   },
   "outputs": [],
   "source": [
    "#import libraries keys and setup data direcotry\n",
    "import matplotlib.pyplot as plt\n",
    "import pandas as pd\n",
    "import numpy as np\n",
    "import requests\n",
    "from datetime import date\n",
    "import os\n",
    "import sys\n",
    "import random\n",
    "from scipy.stats import linregress\n",
    "from scipy.stats import normaltest\n",
    "from citipy import citipy\n",
    "import json\n",
    "import gmaps\n",
    "from math import nan\n",
    "\n",
    "\n",
    "#Include api directory in path\n",
    "sys.path.append(\"api\")\n",
    "\n",
    "# Import API key\n",
    "from config import g_key\n",
    "from config import np_key\n",
    "\n",
    "#National Park Endpoints\n",
    "np_endpoint_parks = \"https://developer.nps.gov/api/v1/parks?\"\n",
    "\n",
    "\n",
    "#DataFrame Descriptions\n",
    "#attendance_master_detail - National Visit - Location code, activity count - One record per park per year.\n",
    "#Final_Budget_df - Clean National Park Budget Data - One record per park per year. \n",
    "#Max_Year_df - Max Year Visits With location codes -  One record per park. Representing visits from most recent year.\n",
    "#Budget_Attendance_final_df - Merge of visit, budget (including adjusted for cpi), location codes,state, activity count. One record per year per park.\n",
    "#National Park activities - One record per activity per national park.  (Just in case, but most likely won't use.)\n",
    "\n"
   ]
  },
  {
   "cell_type": "markdown",
   "metadata": {},
   "source": [
    "## Import Park Attendance Data (Ana, Kevin-support)"
   ]
  },
  {
   "cell_type": "code",
   "execution_count": 2,
   "metadata": {},
   "outputs": [],
   "source": [
    "#Import in park atendnce excel/csv  "
   ]
  },
  {
   "cell_type": "code",
   "execution_count": 3,
   "metadata": {
    "scrolled": true
   },
   "outputs": [
    {
     "data": {
      "text/html": [
       "<div>\n",
       "<style scoped>\n",
       "    .dataframe tbody tr th:only-of-type {\n",
       "        vertical-align: middle;\n",
       "    }\n",
       "\n",
       "    .dataframe tbody tr th {\n",
       "        vertical-align: top;\n",
       "    }\n",
       "\n",
       "    .dataframe thead th {\n",
       "        text-align: right;\n",
       "    }\n",
       "</style>\n",
       "<table border=\"1\" class=\"dataframe\">\n",
       "  <thead>\n",
       "    <tr style=\"text-align: right;\">\n",
       "      <th></th>\n",
       "      <th>Park Name</th>\n",
       "      <th>Year</th>\n",
       "      <th>Visits</th>\n",
       "    </tr>\n",
       "  </thead>\n",
       "  <tbody>\n",
       "    <tr>\n",
       "      <th>0</th>\n",
       "      <td>Abraham Lincoln Birthplace NHP</td>\n",
       "      <td>2019</td>\n",
       "      <td>238226</td>\n",
       "    </tr>\n",
       "    <tr>\n",
       "      <th>1</th>\n",
       "      <td>Abraham Lincoln Birthplace NHP</td>\n",
       "      <td>1979</td>\n",
       "      <td>271231</td>\n",
       "    </tr>\n",
       "    <tr>\n",
       "      <th>2</th>\n",
       "      <td>Abraham Lincoln Birthplace NHP</td>\n",
       "      <td>1980</td>\n",
       "      <td>239074</td>\n",
       "    </tr>\n",
       "    <tr>\n",
       "      <th>3</th>\n",
       "      <td>Abraham Lincoln Birthplace NHP</td>\n",
       "      <td>1981</td>\n",
       "      <td>252245</td>\n",
       "    </tr>\n",
       "    <tr>\n",
       "      <th>4</th>\n",
       "      <td>Abraham Lincoln Birthplace NHP</td>\n",
       "      <td>1982</td>\n",
       "      <td>318707</td>\n",
       "    </tr>\n",
       "    <tr>\n",
       "      <th>...</th>\n",
       "      <td>...</td>\n",
       "      <td>...</td>\n",
       "      <td>...</td>\n",
       "    </tr>\n",
       "    <tr>\n",
       "      <th>13738</th>\n",
       "      <td>Zion NP</td>\n",
       "      <td>2014</td>\n",
       "      <td>3189696</td>\n",
       "    </tr>\n",
       "    <tr>\n",
       "      <th>13739</th>\n",
       "      <td>Zion NP</td>\n",
       "      <td>2015</td>\n",
       "      <td>3648846</td>\n",
       "    </tr>\n",
       "    <tr>\n",
       "      <th>13740</th>\n",
       "      <td>Zion NP</td>\n",
       "      <td>2016</td>\n",
       "      <td>4295127</td>\n",
       "    </tr>\n",
       "    <tr>\n",
       "      <th>13741</th>\n",
       "      <td>Zion NP</td>\n",
       "      <td>2017</td>\n",
       "      <td>4504812</td>\n",
       "    </tr>\n",
       "    <tr>\n",
       "      <th>13742</th>\n",
       "      <td>Zion NP</td>\n",
       "      <td>2018</td>\n",
       "      <td>4320033</td>\n",
       "    </tr>\n",
       "  </tbody>\n",
       "</table>\n",
       "<p>13743 rows × 3 columns</p>\n",
       "</div>"
      ],
      "text/plain": [
       "                            Park Name  Year   Visits\n",
       "0      Abraham Lincoln Birthplace NHP  2019   238226\n",
       "1      Abraham Lincoln Birthplace NHP  1979   271231\n",
       "2      Abraham Lincoln Birthplace NHP  1980   239074\n",
       "3      Abraham Lincoln Birthplace NHP  1981   252245\n",
       "4      Abraham Lincoln Birthplace NHP  1982   318707\n",
       "...                               ...   ...      ...\n",
       "13738                         Zion NP  2014  3189696\n",
       "13739                         Zion NP  2015  3648846\n",
       "13740                         Zion NP  2016  4295127\n",
       "13741                         Zion NP  2017  4504812\n",
       "13742                         Zion NP  2018  4320033\n",
       "\n",
       "[13743 rows x 3 columns]"
      ]
     },
     "execution_count": 3,
     "metadata": {},
     "output_type": "execute_result"
    }
   ],
   "source": [
    "# Import the park atendence csv file\n",
    "attendance_df = pd.read_csv(\"data/Visists 1979-2019 v2.csv\")\n",
    "attendance_df"
   ]
  },
  {
   "cell_type": "code",
   "execution_count": 4,
   "metadata": {
    "scrolled": true
   },
   "outputs": [
    {
     "data": {
      "text/plain": [
       "Index(['Park Name', 'Year', 'Visits'], dtype='object')"
      ]
     },
     "execution_count": 4,
     "metadata": {},
     "output_type": "execute_result"
    }
   ],
   "source": [
    "#Data cleanse.\n",
    "attendance_df.columns"
   ]
  },
  {
   "cell_type": "code",
   "execution_count": 5,
   "metadata": {
    "scrolled": true
   },
   "outputs": [
    {
     "data": {
      "text/plain": [
       "Park Name    object\n",
       "Year          int64\n",
       "Visits        int64\n",
       "dtype: object"
      ]
     },
     "execution_count": 5,
     "metadata": {},
     "output_type": "execute_result"
    }
   ],
   "source": [
    "#Checking the data types in Data Frame \n",
    "attendance_df.dtypes"
   ]
  },
  {
   "cell_type": "code",
   "execution_count": 6,
   "metadata": {},
   "outputs": [
    {
     "data": {
      "text/plain": [
       "Park Name    object\n",
       "Year          int64\n",
       "Visits        int64\n",
       "dtype: object"
      ]
     },
     "execution_count": 6,
     "metadata": {},
     "output_type": "execute_result"
    }
   ],
   "source": [
    "attendance_df[\"Park Name\"] = attendance_df[\"Park Name\"].astype(\"str\")\n",
    "attendance_df.dtypes"
   ]
  },
  {
   "cell_type": "code",
   "execution_count": 7,
   "metadata": {
    "scrolled": true
   },
   "outputs": [
    {
     "data": {
      "text/html": [
       "<div>\n",
       "<style scoped>\n",
       "    .dataframe tbody tr th:only-of-type {\n",
       "        vertical-align: middle;\n",
       "    }\n",
       "\n",
       "    .dataframe tbody tr th {\n",
       "        vertical-align: top;\n",
       "    }\n",
       "\n",
       "    .dataframe thead th {\n",
       "        text-align: right;\n",
       "    }\n",
       "</style>\n",
       "<table border=\"1\" class=\"dataframe\">\n",
       "  <thead>\n",
       "    <tr style=\"text-align: right;\">\n",
       "      <th></th>\n",
       "      <th>Park Name</th>\n",
       "      <th>Year</th>\n",
       "      <th>Visits</th>\n",
       "    </tr>\n",
       "  </thead>\n",
       "  <tbody>\n",
       "    <tr>\n",
       "      <th>41</th>\n",
       "      <td>Acadia NP</td>\n",
       "      <td>2019</td>\n",
       "      <td>3437286</td>\n",
       "    </tr>\n",
       "    <tr>\n",
       "      <th>42</th>\n",
       "      <td>Acadia NP</td>\n",
       "      <td>1979</td>\n",
       "      <td>2787366</td>\n",
       "    </tr>\n",
       "    <tr>\n",
       "      <th>43</th>\n",
       "      <td>Acadia NP</td>\n",
       "      <td>1980</td>\n",
       "      <td>2779666</td>\n",
       "    </tr>\n",
       "    <tr>\n",
       "      <th>44</th>\n",
       "      <td>Acadia NP</td>\n",
       "      <td>1981</td>\n",
       "      <td>2997972</td>\n",
       "    </tr>\n",
       "    <tr>\n",
       "      <th>45</th>\n",
       "      <td>Acadia NP</td>\n",
       "      <td>1982</td>\n",
       "      <td>3572114</td>\n",
       "    </tr>\n",
       "    <tr>\n",
       "      <th>...</th>\n",
       "      <td>...</td>\n",
       "      <td>...</td>\n",
       "      <td>...</td>\n",
       "    </tr>\n",
       "    <tr>\n",
       "      <th>13738</th>\n",
       "      <td>Zion NP</td>\n",
       "      <td>2014</td>\n",
       "      <td>3189696</td>\n",
       "    </tr>\n",
       "    <tr>\n",
       "      <th>13739</th>\n",
       "      <td>Zion NP</td>\n",
       "      <td>2015</td>\n",
       "      <td>3648846</td>\n",
       "    </tr>\n",
       "    <tr>\n",
       "      <th>13740</th>\n",
       "      <td>Zion NP</td>\n",
       "      <td>2016</td>\n",
       "      <td>4295127</td>\n",
       "    </tr>\n",
       "    <tr>\n",
       "      <th>13741</th>\n",
       "      <td>Zion NP</td>\n",
       "      <td>2017</td>\n",
       "      <td>4504812</td>\n",
       "    </tr>\n",
       "    <tr>\n",
       "      <th>13742</th>\n",
       "      <td>Zion NP</td>\n",
       "      <td>2018</td>\n",
       "      <td>4320033</td>\n",
       "    </tr>\n",
       "  </tbody>\n",
       "</table>\n",
       "<p>2786 rows × 3 columns</p>\n",
       "</div>"
      ],
      "text/plain": [
       "       Park Name  Year   Visits\n",
       "41     Acadia NP  2019  3437286\n",
       "42     Acadia NP  1979  2787366\n",
       "43     Acadia NP  1980  2779666\n",
       "44     Acadia NP  1981  2997972\n",
       "45     Acadia NP  1982  3572114\n",
       "...          ...   ...      ...\n",
       "13738    Zion NP  2014  3189696\n",
       "13739    Zion NP  2015  3648846\n",
       "13740    Zion NP  2016  4295127\n",
       "13741    Zion NP  2017  4504812\n",
       "13742    Zion NP  2018  4320033\n",
       "\n",
       "[2786 rows x 3 columns]"
      ]
     },
     "execution_count": 7,
     "metadata": {},
     "output_type": "execute_result"
    }
   ],
   "source": [
    "# Filter through our attendence DataFrame to fibd only our National Parks\n",
    "national_park_df = attendance_df[attendance_df[\"Park Name\"].str.contains(\"NP\")]\n",
    "national_park_df"
   ]
  },
  {
   "cell_type": "markdown",
   "metadata": {},
   "source": [
    "## Import Operating Cost Data (Kevin)"
   ]
  },
  {
   "cell_type": "code",
   "execution_count": 8,
   "metadata": {},
   "outputs": [],
   "source": [
    "#Import operating cost into data frame #Import operating cost into data frame \n",
    "Budget2006_df = pd.read_excel(\"data/Nation_Park_Budget/National_Park_Budget_2006.xlsx\")\n",
    "Budget2007_df = pd.read_excel(\"data/Nation_Park_Budget/National_Park_Budget_2007.xlsx\")\n",
    "Budget2008_df = pd.read_excel(\"data/Nation_Park_Budget/National_Park_Budget_2008.xlsx\")\n",
    "Budget2009_df = pd.read_excel(\"data/Nation_Park_Budget/National_Park_Budget_2009.xlsx\")\n",
    "Budget2010_df = pd.read_excel(\"data/Nation_Park_Budget/National_Park_Budget_2010.xlsx\")\n",
    "Budget2011_df = pd.read_excel(\"data/Nation_Park_Budget/National_Park_Budget_2011.xlsx\")\n",
    "Budget2012_df = pd.read_excel(\"data/Nation_Park_Budget/National_Park_Budget_2012.xlsx\")\n",
    "Budget2013_df = pd.read_excel(\"data/Nation_Park_Budget/National_Park_Budget_2013.xlsx\")\n",
    "Budget2014_df = pd.read_excel(\"data/Nation_Park_Budget/National_Park_Budget_2014.xlsx\")\n",
    "Budget2015_df = pd.read_excel(\"data/Nation_Park_Budget/National_Park_Budget_2015.xlsx\")\n",
    "Budget2017_df = pd.read_excel(\"data/Nation_Park_Budget/National_Park_Budget_2017.xlsx\")\n",
    "Budget2018_df = pd.read_excel(\"data/Nation_Park_Budget/National_Park_Budget_2018.xlsx\")\n",
    "Budget2019_df = pd.read_excel(\"data/Nation_Park_Budget/National_Park_Budget_2019.xlsx\")\n",
    "Budget2020_df = pd.read_excel(\"data/Nation_Park_Budget/National_Park_Budget_2020.xlsx\")\n",
    "Budget2021_df = pd.read_excel(\"data/Nation_Park_Budget/National_Park_Budget_2021.xlsx\")\n"
   ]
  },
  {
   "cell_type": "code",
   "execution_count": 14,
   "metadata": {},
   "outputs": [
    {
     "data": {
      "text/html": [
       "<div>\n",
       "<style scoped>\n",
       "    .dataframe tbody tr th:only-of-type {\n",
       "        vertical-align: middle;\n",
       "    }\n",
       "\n",
       "    .dataframe tbody tr th {\n",
       "        vertical-align: top;\n",
       "    }\n",
       "\n",
       "    .dataframe thead th {\n",
       "        text-align: right;\n",
       "    }\n",
       "</style>\n",
       "<table border=\"1\" class=\"dataframe\">\n",
       "  <thead>\n",
       "    <tr style=\"text-align: right;\">\n",
       "      <th></th>\n",
       "      <th>National Park Name</th>\n",
       "      <th>Estimated Budget</th>\n",
       "      <th>Year</th>\n",
       "    </tr>\n",
       "  </thead>\n",
       "  <tbody>\n",
       "    <tr>\n",
       "      <th>1</th>\n",
       "      <td>Acadia NP</td>\n",
       "      <td>8130</td>\n",
       "      <td>2016</td>\n",
       "    </tr>\n",
       "    <tr>\n",
       "      <th>13</th>\n",
       "      <td>Arches NP</td>\n",
       "      <td>1965</td>\n",
       "      <td>2016</td>\n",
       "    </tr>\n",
       "    <tr>\n",
       "      <th>17</th>\n",
       "      <td>Badlands NP</td>\n",
       "      <td>4412</td>\n",
       "      <td>2016</td>\n",
       "    </tr>\n",
       "    <tr>\n",
       "      <th>20</th>\n",
       "      <td>Big Bend NP</td>\n",
       "      <td>7258</td>\n",
       "      <td>2016</td>\n",
       "    </tr>\n",
       "    <tr>\n",
       "      <th>21</th>\n",
       "      <td>Big Cypress NPres</td>\n",
       "      <td>6835</td>\n",
       "      <td>2016</td>\n",
       "    </tr>\n",
       "  </tbody>\n",
       "</table>\n",
       "</div>"
      ],
      "text/plain": [
       "   National Park Name Estimated Budget  Year\n",
       "1           Acadia NP             8130  2016\n",
       "13          Arches NP             1965  2016\n",
       "17        Badlands NP             4412  2016\n",
       "20        Big Bend NP             7258  2016\n",
       "21  Big Cypress NPres             6835  2016"
      ]
     },
     "execution_count": 14,
     "metadata": {},
     "output_type": "execute_result"
    }
   ],
   "source": [
    "#Import operating cost into data frame \n",
    "Budget_2002_df = pd.read_excel(\"data/Budget_Data/2002_Budget.xlsx\")\n",
    "# Budget_2002_df.head()\n",
    "clean_budget_2002_df = Budget_2002_df[Budget_2002_df[\"National Park Name\"].str.contains(\"NP\")]\n",
    "# clean_budget_2002_df.head()\n",
    "estimated_budget_2002_df = clean_budget_2002_df.loc[:,(\"National Park Name\",\"Estimated Budget\")]\n",
    "estimated_budget_2002_df[\"Year\"] = 2002\n",
    "estimated_budget_2002_df.head()\n",
    "#Import operating cost into data frame \n",
    "Budget_2003_df = pd.read_excel(\"data/Budget_Data/2003_Budget.xlsx\")\n",
    "clean_budget_2003_df = Budget_2003_df[Budget_2003_df[\"National Park Name\"].str.contains(\"NP\")]\n",
    "# clean_budget_2003_df.head()\n",
    "estimated_budget_2003_df = clean_budget_2003_df.loc[:,(\"National Park Name\",\"Estimated Budget\")]\n",
    "estimated_budget_2003_df[\"Year\"] = 2003\n",
    "estimated_budget_2003_df.head()\n",
    "#Import operating cost into data frame \n",
    "Budget_2004_df = pd.read_excel(\"data/Budget_Data/2004_Budget.xlsx\")\n",
    "clean_budget_2004_df = Budget_2004_df[Budget_2004_df[\"National Park Name\"].str.contains(\"NP\")]\n",
    "# clean_budget_2004_df.head()\n",
    "estimated_budget_2004_df = clean_budget_2004_df.loc[:,(\"National Park Name\",\"Estimated Budget\")]\n",
    "estimated_budget_2004_df[\"Year\"] = 2004\n",
    "estimated_budget_2004_df.head()\n",
    "#Import operating cost into data frame \n",
    "Budget_2005_df = pd.read_excel(\"data/Budget_Data/2005_Budget.xlsx\")\n",
    "clean_budget_2005_df = Budget_2005_df[Budget_2005_df[\"National Park Name\"].str.contains(\"NP\")]\n",
    "# clean_budget_2005_df.head()\n",
    "estimated_budget_2005_df = clean_budget_2005_df.loc[:,(\"National Park Name\",\"Estimated Budget\")]\n",
    "estimated_budget_2005_df[\"Year\"] = 2005\n",
    "estimated_budget_2005_df.head()\n",
    "#Import operating cost into data frame \n",
    "Budget_2006_df = pd.read_excel(\"data/Budget_Data/2006_Budget.xlsx\")\n",
    "clean_budget_2006_df = Budget_2006_df[Budget_2006_df[\"National Park Name\"].str.contains(\"NP\")]\n",
    "# clean_budget_2006_df.head()\n",
    "estimated_budget_2006_df = clean_budget_2006_df.loc[:,(\"National Park Name\",\"Estimated Budget\")]\n",
    "estimated_budget_2006_df[\"Year\"] = 2006\n",
    "estimated_budget_2006_df.head()\n",
    "#Import operating cost into data frame \n",
    "Budget_2016_df = pd.read_excel(\"data/Budget_Data/2016_Budget.xlsx\")\n",
    "clean_budget_2016_df = Budget_2016_df[Budget_2016_df[\"National Park Name\"].str.contains(\"NP\")]\n",
    "# clean_budget_2016_df.head()\n",
    "estimated_budget_2016_df = clean_budget_2016_df.loc[:,(\"National Park Name\",\"Estimated Budget\")]\n",
    "estimated_budget_2016_df[\"Year\"] = 2016\n",
    "estimated_budget_2016_df.head()\n",
    "\n",
    "\n"
   ]
  },
  {
   "cell_type": "code",
   "execution_count": 10,
   "metadata": {},
   "outputs": [],
   "source": [
    "#Data cleansing\n",
    "Clean_Budget2006_df = Budget2006_df.loc[:,[\"OPERATION OF THE NAT'L PARK SYSTEM\",\"FY 2006 Presiden's Request\"]]\n",
    "Clean_Budget2007_df = Budget2007_df.loc[:,[\"OPERATION OF THE NAT'L PARK SYSTEM\",\"FY 2007 Request\"]]\n",
    "Clean_Budget2008_df = Budget2008_df.loc[:,[\"OPERATION OF THE NAT'L PARK SYSTEM\",\"FY 2008 President's Request\"]]\n",
    "Clean_Budget2009_df = Budget2009_df.loc[:,[\"Operation of National Park System\",\"FY 2009 Presidents Request\"]]\n",
    "Clean_Budget2010_df = Budget2010_df.loc[:,[\"Operation of Nat Park\",\"FY 2010 Preisdent Request\"]]\n",
    "Clean_Budget2011_df = Budget2011_df.loc[:,[\"Operation of The National Park System\",\"FY 2011 President's Request\"]]\n",
    "Clean_Budget2012_df = Budget2012_df.loc[:,[\"OPERATION OF THE NATIONAL PARK SYSTEM\",\"2012 Presidents Requests\"]]\n",
    "Clean_Budget2013_df = Budget2013_df.loc[:,[\"OPERATION OF THE NATIONAL PARK SYSTEM\",\"FY 2013 Presidents Request\"]]\n",
    "Clean_Budget2014_df = Budget2014_df.loc[:,[\"OPERATION OF THE NATIONAL PARK SYSTEM\",\"2014 Requested\"]]\n",
    "Clean_Budget2015_df = Budget2015_df.loc[:,[\"OPERATION OF THE NATIONAL PARK SYSTEM\",\"2015 Reques t\"]]\n",
    "Clean_Budget2017_df = Budget2017_df.loc[:,[\"OPERATION OF THE NATIONAL PARK SYSTEM\",\"FY 2017 Request\"]]\n",
    "Clean_Budget2018_df = Budget2018_df.loc[:,[\"OPERATION OF THE NATIONAL PARK SYSTEM\\nORGANIZATIONS\",\"FY 2018\\nRequest\"]]\n",
    "Clean_Budget2019_df = Budget2019_df.loc[:,[\"OPERATION OF THE NATIONAL PARK SYSTEM ORGANIZATIONS\",\"FY 2019\\nRequest9\"]]\n",
    "Clean_Budget2021_df = Budget2021_df.loc[:,[\"OPERATION OF THE NATIONAL PARK SYSTEM ORGANIZATIONS\", \" FY 2021\\nRequest\"]]\n",
    "Clean_Budget2020_df = Budget2020_df.loc[:,[\"OPERATION OF THE NATIONAL PARK SYSTEM ORGANIZATIONS \", \"FY 2020 Request \"]]"
   ]
  },
  {
   "cell_type": "code",
   "execution_count": 11,
   "metadata": {},
   "outputs": [],
   "source": [
    "# Adding New Column For Year\n",
    "Clean_Budget2006_df[\"Year\"]=2006\n",
    "Clean_Budget2007_df[\"Year\"]=2007\n",
    "Clean_Budget2008_df[\"Year\"]=2008\n",
    "Clean_Budget2009_df[\"Year\"]=2009\n",
    "Clean_Budget2010_df[\"Year\"]=2010\n",
    "Clean_Budget2011_df[\"Year\"]=2011\n",
    "Clean_Budget2012_df[\"Year\"]=2012\n",
    "Clean_Budget2013_df[\"Year\"]=2013\n",
    "Clean_Budget2014_df[\"Year\"]=2014\n",
    "Clean_Budget2015_df[\"Year\"]=2015\n",
    "Clean_Budget2017_df[\"Year\"]=2017\n",
    "Clean_Budget2018_df[\"Year\"]=2018\n",
    "Clean_Budget2019_df[\"Year\"]=2019\n",
    "Clean_Budget2020_df[\"Year\"]=2020\n",
    "Clean_Budget2021_df[\"Year\"]=2021"
   ]
  },
  {
   "cell_type": "code",
   "execution_count": 12,
   "metadata": {},
   "outputs": [],
   "source": [
    "# Making the Same name for the columns from different years\n",
    "Clean_Budget2006_df = Clean_Budget2006_df.rename(columns={\"OPERATION OF THE NAT'L PARK SYSTEM\":\"Park Name\",\"FY 2006 Presiden's Request\":\"Budget Request(dollars in thousands)\"})\n",
    "Clean_Budget2007_df = Clean_Budget2007_df.rename(columns={\"OPERATION OF THE NAT'L PARK SYSTEM\":\"Park Name\",\"FY 2007 Request\":\"Budget Request(dollars in thousands)\"})\n",
    "Clean_Budget2008_df = Clean_Budget2008_df.rename(columns={\"OPERATION OF THE NAT'L PARK SYSTEM\":\"Park Name\",\"FY 2008 President's Request\":\"Budget Request(dollars in thousands)\"})\n",
    "Clean_Budget2009_df = Clean_Budget2009_df.rename(columns={\"Operation of National Park System\":\"Park Name\",\"FY 2009 Presidents Request\":\"Budget Request(dollars in thousands)\"})\n",
    "Clean_Budget2010_df = Clean_Budget2010_df.rename(columns={\"Operation of Nat Park\":\"Park Name\",\"FY 2010 Preisdent Request\":\"Budget Request(dollars in thousands)\"})\n",
    "Clean_Budget2011_df = Clean_Budget2011_df.rename(columns={\"Operation of The National Park System\":\"Park Name\",\"FY 2011 President's Request\":\"Budget Request(dollars in thousands)\"})\n",
    "Clean_Budget2012_df = Clean_Budget2012_df.rename(columns={\"OPERATION OF THE NATIONAL PARK SYSTEM\":\"Park Name\",\"2012 Presidents Requests\":\"Budget Request(dollars in thousands)\"})\n",
    "Clean_Budget2013_df = Clean_Budget2013_df.rename(columns={\"OPERATION OF THE NATIONAL PARK SYSTEM\":\"Park Name\",\"FY 2013 Presidents Request\":\"Budget Request(dollars in thousands)\"})\n",
    "Clean_Budget2014_df = Clean_Budget2014_df.rename(columns={\"OPERATION OF THE NATIONAL PARK SYSTEM\":\"Park Name\",\"2014 Requested\":\"Budget Request(dollars in thousands)\"})\n",
    "Clean_Budget2015_df = Clean_Budget2015_df.rename(columns={\"OPERATION OF THE NATIONAL PARK SYSTEM\":\"Park Name\",\"2015 Reques t\":\"Budget Request(dollars in thousands)\"})\n",
    "Clean_Budget2017_df = Clean_Budget2017_df.rename(columns={\"OPERATION OF THE NATIONAL PARK SYSTEM\":\"Park Name\",\"FY 2017 Request\":\"Budget Request(dollars in thousands)\"})\n",
    "Clean_Budget2018_df = Clean_Budget2018_df.rename(columns={\"OPERATION OF THE NATIONAL PARK SYSTEM\\nORGANIZATIONS\":\"Park Name\",\"FY 2018\\nRequest\":\"Budget Request(dollars in thousands)\"})\n",
    "Clean_Budget2019_df = Clean_Budget2019_df.rename(columns={\"OPERATION OF THE NATIONAL PARK SYSTEM ORGANIZATIONS\":\"Park Name\",\"FY 2019\\nRequest9\":\"Budget Request(dollars in thousands)\"})\n",
    "Clean_Budget2021_df = Clean_Budget2021_df.rename(columns={\"OPERATION OF THE NATIONAL PARK SYSTEM ORGANIZATIONS\":\"Park Name\", \" FY 2021\\nRequest\":\"Budget Request(dollars in thousands)\"})\n",
    "Clean_Budget2020_df = Clean_Budget2020_df.rename(columns={\"OPERATION OF THE NATIONAL PARK SYSTEM ORGANIZATIONS \":\"Park Name\", \"FY 2020 Request \":\"Budget Request(dollars in thousands)\"})"
   ]
  },
  {
   "cell_type": "code",
   "execution_count": 20,
   "metadata": {},
   "outputs": [
    {
     "data": {
      "text/html": [
       "<div>\n",
       "<style scoped>\n",
       "    .dataframe tbody tr th:only-of-type {\n",
       "        vertical-align: middle;\n",
       "    }\n",
       "\n",
       "    .dataframe tbody tr th {\n",
       "        vertical-align: top;\n",
       "    }\n",
       "\n",
       "    .dataframe thead th {\n",
       "        text-align: right;\n",
       "    }\n",
       "</style>\n",
       "<table border=\"1\" class=\"dataframe\">\n",
       "  <thead>\n",
       "    <tr style=\"text-align: right;\">\n",
       "      <th></th>\n",
       "      <th>National Park Name</th>\n",
       "      <th>Estimated Budget</th>\n",
       "      <th>Year</th>\n",
       "    </tr>\n",
       "  </thead>\n",
       "  <tbody>\n",
       "    <tr>\n",
       "      <th>1</th>\n",
       "      <td>Acadia NP</td>\n",
       "      <td>4706000</td>\n",
       "      <td>2002</td>\n",
       "    </tr>\n",
       "    <tr>\n",
       "      <th>12</th>\n",
       "      <td>Arches NP</td>\n",
       "      <td>1020000</td>\n",
       "      <td>2002</td>\n",
       "    </tr>\n",
       "    <tr>\n",
       "      <th>17</th>\n",
       "      <td>Badlands NP</td>\n",
       "      <td>3072000</td>\n",
       "      <td>2002</td>\n",
       "    </tr>\n",
       "    <tr>\n",
       "      <th>21</th>\n",
       "      <td>Big Bend NP</td>\n",
       "      <td>4735000</td>\n",
       "      <td>2002</td>\n",
       "    </tr>\n",
       "    <tr>\n",
       "      <th>27</th>\n",
       "      <td>Biscayne NP</td>\n",
       "      <td>3480000</td>\n",
       "      <td>2002</td>\n",
       "    </tr>\n",
       "    <tr>\n",
       "      <th>...</th>\n",
       "      <td>...</td>\n",
       "      <td>...</td>\n",
       "      <td>...</td>\n",
       "    </tr>\n",
       "    <tr>\n",
       "      <th>388</th>\n",
       "      <td>Wrangell-Saint Elias NP&amp;Pres</td>\n",
       "      <td>5767</td>\n",
       "      <td>2016</td>\n",
       "    </tr>\n",
       "    <tr>\n",
       "      <th>389</th>\n",
       "      <td>Yellowstone NP</td>\n",
       "      <td>35200</td>\n",
       "      <td>2016</td>\n",
       "    </tr>\n",
       "    <tr>\n",
       "      <th>390</th>\n",
       "      <td>Yosemite NP</td>\n",
       "      <td>30974</td>\n",
       "      <td>2016</td>\n",
       "    </tr>\n",
       "    <tr>\n",
       "      <th>392</th>\n",
       "      <td>Yukon-Charley Rivers NPres</td>\n",
       "      <td>1824</td>\n",
       "      <td>2016</td>\n",
       "    </tr>\n",
       "    <tr>\n",
       "      <th>393</th>\n",
       "      <td>Zion NP</td>\n",
       "      <td>7723</td>\n",
       "      <td>2016</td>\n",
       "    </tr>\n",
       "  </tbody>\n",
       "</table>\n",
       "<p>358 rows × 3 columns</p>\n",
       "</div>"
      ],
      "text/plain": [
       "               National Park Name Estimated Budget  Year\n",
       "1                       Acadia NP          4706000  2002\n",
       "12                      Arches NP          1020000  2002\n",
       "17                    Badlands NP          3072000  2002\n",
       "21                    Big Bend NP          4735000  2002\n",
       "27                    Biscayne NP          3480000  2002\n",
       "..                            ...              ...   ...\n",
       "388  Wrangell-Saint Elias NP&Pres             5767  2016\n",
       "389                Yellowstone NP            35200  2016\n",
       "390                   Yosemite NP            30974  2016\n",
       "392    Yukon-Charley Rivers NPres             1824  2016\n",
       "393                       Zion NP             7723  2016\n",
       "\n",
       "[358 rows x 3 columns]"
      ]
     },
     "execution_count": 20,
     "metadata": {},
     "output_type": "execute_result"
    }
   ],
   "source": [
    "budget_frames = [estimated_budget_2002_df,estimated_budget_2003_df,estimated_budget_2004_df,estimated_budget_2005_df,estimated_budget_2006_df,estimated_budget_2016_df]\n",
    "merged_budget_df = pd.concat(budget_frames)\n",
    "merged_budget_df"
   ]
  },
  {
   "cell_type": "code",
   "execution_count": 21,
   "metadata": {},
   "outputs": [
    {
     "name": "stderr",
     "output_type": "stream",
     "text": [
      "<ipython-input-21-7615684673b8>:8: SettingWithCopyWarning: \n",
      "A value is trying to be set on a copy of a slice from a DataFrame.\n",
      "Try using .loc[row_indexer,col_indexer] = value instead\n",
      "\n",
      "See the caveats in the documentation: https://pandas.pydata.org/pandas-docs/stable/user_guide/indexing.html#returning-a-view-versus-a-copy\n",
      "  Final_Budget_df[\"Budget Request(dollars in thousands)\"] = Final_Budget_df[\"Budget Request(dollars in thousands)\"].astype(\"int64\")\n"
     ]
    },
    {
     "data": {
      "text/html": [
       "<div>\n",
       "<style scoped>\n",
       "    .dataframe tbody tr th:only-of-type {\n",
       "        vertical-align: middle;\n",
       "    }\n",
       "\n",
       "    .dataframe tbody tr th {\n",
       "        vertical-align: top;\n",
       "    }\n",
       "\n",
       "    .dataframe thead th {\n",
       "        text-align: right;\n",
       "    }\n",
       "</style>\n",
       "<table border=\"1\" class=\"dataframe\">\n",
       "  <thead>\n",
       "    <tr style=\"text-align: right;\">\n",
       "      <th></th>\n",
       "      <th>Park Name</th>\n",
       "      <th>Budget Request(dollars in thousands)</th>\n",
       "      <th>Year</th>\n",
       "    </tr>\n",
       "  </thead>\n",
       "  <tbody>\n",
       "    <tr>\n",
       "      <th>1</th>\n",
       "      <td>Acadia NP</td>\n",
       "      <td>7185</td>\n",
       "      <td>2008</td>\n",
       "    </tr>\n",
       "    <tr>\n",
       "      <th>13</th>\n",
       "      <td>Arches NP</td>\n",
       "      <td>1712</td>\n",
       "      <td>2008</td>\n",
       "    </tr>\n",
       "    <tr>\n",
       "      <th>18</th>\n",
       "      <td>Badlands NP</td>\n",
       "      <td>4402</td>\n",
       "      <td>2008</td>\n",
       "    </tr>\n",
       "    <tr>\n",
       "      <th>22</th>\n",
       "      <td>Big Bend NP</td>\n",
       "      <td>6121</td>\n",
       "      <td>2008</td>\n",
       "    </tr>\n",
       "    <tr>\n",
       "      <th>28</th>\n",
       "      <td>Biscayne NP</td>\n",
       "      <td>3790</td>\n",
       "      <td>2008</td>\n",
       "    </tr>\n",
       "    <tr>\n",
       "      <th>...</th>\n",
       "      <td>...</td>\n",
       "      <td>...</td>\n",
       "      <td>...</td>\n",
       "    </tr>\n",
       "    <tr>\n",
       "      <th>353</th>\n",
       "      <td>Wrangell-Saint Elias NP&amp;Pres</td>\n",
       "      <td>5634</td>\n",
       "      <td>2020</td>\n",
       "    </tr>\n",
       "    <tr>\n",
       "      <th>354</th>\n",
       "      <td>Yellowstone NP</td>\n",
       "      <td>34410</td>\n",
       "      <td>2020</td>\n",
       "    </tr>\n",
       "    <tr>\n",
       "      <th>355</th>\n",
       "      <td>Yosemite NP</td>\n",
       "      <td>30032</td>\n",
       "      <td>2020</td>\n",
       "    </tr>\n",
       "    <tr>\n",
       "      <th>357</th>\n",
       "      <td>Yukon-Charley Rivers NPres</td>\n",
       "      <td>1768</td>\n",
       "      <td>2020</td>\n",
       "    </tr>\n",
       "    <tr>\n",
       "      <th>358</th>\n",
       "      <td>Zion NP</td>\n",
       "      <td>7515</td>\n",
       "      <td>2020</td>\n",
       "    </tr>\n",
       "  </tbody>\n",
       "</table>\n",
       "<p>936 rows × 3 columns</p>\n",
       "</div>"
      ],
      "text/plain": [
       "                         Park Name  Budget Request(dollars in thousands)  Year\n",
       "1                        Acadia NP                                  7185  2008\n",
       "13                       Arches NP                                  1712  2008\n",
       "18                     Badlands NP                                  4402  2008\n",
       "22                     Big Bend NP                                  6121  2008\n",
       "28                     Biscayne NP                                  3790  2008\n",
       "..                             ...                                   ...   ...\n",
       "353  Wrangell-Saint Elias NP&Pres                                   5634  2020\n",
       "354                Yellowstone NP                                  34410  2020\n",
       "355                   Yosemite NP                                  30032  2020\n",
       "357    Yukon-Charley Rivers NPres                                   1768  2020\n",
       "358                       Zion NP                                   7515  2020\n",
       "\n",
       "[936 rows x 3 columns]"
      ]
     },
     "execution_count": 21,
     "metadata": {},
     "output_type": "execute_result"
    }
   ],
   "source": [
    "# Merge, drop NA, then look for only NP\n",
    "\n",
    "Frames  = [Clean_Budget2008_df,Clean_Budget2007_df,Clean_Budget2008_df,Clean_Budget2009_df, Clean_Budget2010_df,Clean_Budget2011_df, Clean_Budget2012_df,Clean_Budget2013_df, Clean_Budget2014_df,Clean_Budget2015_df, Clean_Budget2021_df,Clean_Budget2017_df, Clean_Budget2018_df,Clean_Budget2019_df, Clean_Budget2020_df]\n",
    "Total_Budget_df= pd.concat(Frames)\n",
    "Total_Budget_df.dropna( inplace=True )\n",
    "Final_Budget_df = Total_Budget_df[Total_Budget_df[\"Park Name\"].str.contains(\"NP\")]\n",
    "# Added by Mike to change from object type to int\n",
    "Final_Budget_df[\"Budget Request(dollars in thousands)\"] = Final_Budget_df[\"Budget Request(dollars in thousands)\"].astype(\"int64\")\n",
    "Final_Budget_df\n",
    "\n"
   ]
  },
  {
   "cell_type": "code",
   "execution_count": null,
   "metadata": {
    "scrolled": false
   },
   "outputs": [],
   "source": [
    "Final_Budget_df.dtypes"
   ]
  },
  {
   "cell_type": "markdown",
   "metadata": {},
   "source": [
    "## Import CPI table"
   ]
  },
  {
   "cell_type": "code",
   "execution_count": null,
   "metadata": {},
   "outputs": [],
   "source": [
    "cpi_df = pd.read_excel(\"data/cpi_table.xlsx\")"
   ]
  },
  {
   "cell_type": "code",
   "execution_count": null,
   "metadata": {
    "scrolled": true
   },
   "outputs": [],
   "source": [
    "cpi_df\n"
   ]
  },
  {
   "cell_type": "markdown",
   "metadata": {},
   "source": [
    "## CPI Function"
   ]
  },
  {
   "cell_type": "code",
   "execution_count": null,
   "metadata": {},
   "outputs": [],
   "source": [
    "\n",
    "#The following function will return adjusted prior year abount based on CPI of current year and prior year.\n",
    "\n",
    "def cpi_fnc ( current_year,prior_year, prior_amount ):\n",
    "    \n",
    "    ret_val = 0\n",
    "    if type(prior_year) != 'int' or  type(current_year) != 'int':\n",
    "        try:\n",
    "            prior_year = int(prior_year)\n",
    "            current_year = int(current_year)\n",
    "        except:\n",
    "            print(f\"Type Error: Make sure to pass int values or strings that will convert to int\")\n",
    "        if len(cpi_df[cpi_df[\"YEAR\"] == prior_year]) == 0:\n",
    "                  print(f\"Year {str(prior_year)} does not exist in CPI table\")\n",
    "        elif len(cpi_df[cpi_df[\"YEAR\"] == current_year]) == 0:\n",
    "                  print(f\"Year {str(current_year)} does not exist in CPI table\")\n",
    "        else:\n",
    "            v_curr_year_cpi = cpi_df[cpi_df[\"YEAR\"] == current_year][\"CPI\"].values[0]\n",
    "            v_prior_year_cpi = cpi_df[cpi_df[\"YEAR\"] == prior_year][\"CPI\"].values[0]          \n",
    "            adjusted_amount = prior_amount * float((v_curr_year_cpi/v_prior_year_cpi))\n",
    "            ret_val = round(adjusted_amount,2)\n",
    "    return ret_val\n",
    "                "
   ]
  },
  {
   "cell_type": "code",
   "execution_count": null,
   "metadata": {
    "scrolled": false
   },
   "outputs": [],
   "source": [
    "#CPI Test Statement\n",
    "\n",
    "x = cpi_fnc(2020,2000,14888023)\n",
    "print(str(x))\n"
   ]
  },
  {
   "cell_type": "markdown",
   "metadata": {},
   "source": [
    "## Add CPI Adjusted Budget Amount columns to budget tables (Mike - Efrain)"
   ]
  },
  {
   "cell_type": "code",
   "execution_count": null,
   "metadata": {
    "scrolled": true
   },
   "outputs": [],
   "source": [
    "#Add Column Adjusted Budget Column for 2020 CPI\n",
    "\n",
    "Final_Budget_df[\"AdjBudg(dollars in thousands)\"] = 0\n",
    "\n",
    "for index, row in Final_Budget_df.iterrows():\n",
    "    Final_Budget_df.loc[index,\"AdjBudg(dollars in thousands)\"] = cpi_fnc ( 2020, row[\"Year\"], row[\"Budget Request(dollars in thousands)\"])\n",
    "\n",
    "    "
   ]
  },
  {
   "cell_type": "code",
   "execution_count": null,
   "metadata": {
    "scrolled": false
   },
   "outputs": [],
   "source": [
    "\n",
    "\n"
   ]
  },
  {
   "cell_type": "code",
   "execution_count": null,
   "metadata": {},
   "outputs": [],
   "source": []
  },
  {
   "cell_type": "markdown",
   "metadata": {},
   "source": [
    "## Geo Code Park Attendance Data Frame(Mike, Anna-support)"
   ]
  },
  {
   "cell_type": "code",
   "execution_count": null,
   "metadata": {
    "scrolled": false
   },
   "outputs": [],
   "source": [
    "#Geocode work.  Utilizing existing Attendance \n",
    "np_master_df =pd.read_csv(\"data/national_park_master.csv\")\n",
    "np_master_df "
   ]
  },
  {
   "cell_type": "code",
   "execution_count": null,
   "metadata": {},
   "outputs": [],
   "source": [
    "#Connect to NP API parks endpoint to get park state and activities\n",
    "parkCode_list = []\n",
    "activities_list = []\n",
    "np_master_df[\"State\"] = \" \"\n",
    "np_master_df[\"Activity Count\"] = 0\n",
    "\n",
    "for index, row in np_master_df.iterrows():\n",
    "    params = { \"api_key\": np_key,\n",
    "               \"parkCode\":row[\"parkCode\"]\n",
    "             }\n",
    "    response = requests.get(np_endpoint_parks,params).json()\n",
    "    if len(response[\"data\"][0][\"addresses\"]) > 0:\n",
    "        np_master_df.loc[index,\"State\"] = response[\"data\"][0][\"addresses\"][0][\"stateCode\"]\n",
    "    np_master_df.loc[index,\"Activity Count\"] = len(response[\"data\"][0][\"activities\"])\n",
    "    for activity in response[\"data\"][0][\"activities\"]:\n",
    "        parkCode_list.append(row[\"parkCode\"])\n",
    "        activities_list.append(activity[\"name\"])\n",
    "        \n",
    "    \n",
    "\n",
    "    \n",
    "\n"
   ]
  },
  {
   "cell_type": "code",
   "execution_count": null,
   "metadata": {},
   "outputs": [],
   "source": [
    "#Build NP Activities List\n",
    "np_activities = pd.DataFrame ({\"parkCode\":parkCode_list, \"Activity\":activities_list})\n",
    "\n",
    "#Build Park Activies DataFrame\n",
    "np_activities_df = pd.DataFrame ({\"parkCode\":parkCode_list, \"Activity\":activities_list})\n",
    "np_activities_df[\"Cnt\"] = 1\n",
    "\n",
    "#Pivot on parkCode Not working\n",
    "#np_activities_pivot_df = pd.pivot(np_activities_df,index=\"parkCode\", columns = \"Activity\", values = \"Cnt\").reset_index()\n",
    "\n"
   ]
  },
  {
   "cell_type": "code",
   "execution_count": null,
   "metadata": {},
   "outputs": [],
   "source": [
    "np_activities"
   ]
  },
  {
   "cell_type": "code",
   "execution_count": null,
   "metadata": {},
   "outputs": [],
   "source": [
    "np_master_df"
   ]
  },
  {
   "cell_type": "code",
   "execution_count": null,
   "metadata": {},
   "outputs": [],
   "source": [
    "#creating data frame joining master table and detail visists\n",
    "#attendance_master_detail = pd.concat([national_park_df,np_master_df],join=\"inner\",keys=[\"Park Name\"],axis=1)\n",
    "\n",
    "attendance_master_detail = pd.merge(Final_Budget_df, np_master_df, how=\"inner\", on=[\"Park Name\"])"
   ]
  },
  {
   "cell_type": "code",
   "execution_count": null,
   "metadata": {},
   "outputs": [],
   "source": [
    "attendance_master_detail.head(-10)"
   ]
  },
  {
   "cell_type": "code",
   "execution_count": null,
   "metadata": {},
   "outputs": [],
   "source": [
    "#Max_Year_attendance_df = attendence_df[attendence_df[\"Park Name\"].str.contains(\"NP\")]\n",
    "#Max_Year_attendance_df\n",
    "\n",
    "Max_Year_attendance_grp = attendance_master_detail.groupby(['Park Name'])['Year'].max()\n",
    "Max_Year_attendance_stg_df = Max_Year_attendance_grp.reset_index()\n",
    "#attendance_master_detail[attendance_master_detail['Year']==Max_Year_attendance_stg_df['Year']\n",
    "                        \n",
    "#Max_Year_attendance_df\n"
   ]
  },
  {
   "cell_type": "code",
   "execution_count": null,
   "metadata": {},
   "outputs": [],
   "source": [
    "Max_Year_attendance_stg_df"
   ]
  },
  {
   "cell_type": "code",
   "execution_count": null,
   "metadata": {},
   "outputs": [],
   "source": [
    "\n",
    "Max_Year_stg_df = pd.merge(Max_Year_attendance_stg_df, np_master_df, how=\"inner\", on=[\"Park Name\"])\n",
    "\n",
    "Max_Year_df = pd.merge(Max_Year_stg_df,national_park_df,how=\"inner\", on=[\"Park Name\",\"Year\"])\n",
    "Max_Year_df"
   ]
  },
  {
   "cell_type": "code",
   "execution_count": null,
   "metadata": {},
   "outputs": [],
   "source": [
    "## Merge Data add Custom fields (Efrain, Kevin, Ana)"
   ]
  },
  {
   "cell_type": "code",
   "execution_count": null,
   "metadata": {},
   "outputs": [],
   "source": [
    "# Merge data frames add "
   ]
  },
  {
   "cell_type": "code",
   "execution_count": null,
   "metadata": {},
   "outputs": [],
   "source": [
    " #Create any custom fields needed to partition data for analysis"
   ]
  },
  {
   "cell_type": "code",
   "execution_count": null,
   "metadata": {},
   "outputs": [],
   "source": [
    "#Duplicate all monetary fieldfs adjusting for inflation"
   ]
  },
  {
   "cell_type": "markdown",
   "metadata": {},
   "source": [
    "# # Join Attendance Detail to Budget"
   ]
  },
  {
   "cell_type": "code",
   "execution_count": null,
   "metadata": {
    "scrolled": true
   },
   "outputs": [],
   "source": [
    "#Merge \n",
    "Budget_Attendance_final_df = pd.merge(Final_Budget_df, national_park_df, how=\"inner\", on=[\"Park Name\",\"Year\"])\n",
    "Budget_Attendance_final_df = pd.merge(Budget_Attendance_final_df,np_master_df,how=\"inner\", on=[\"Park Name\"])"
   ]
  },
  {
   "cell_type": "markdown",
   "metadata": {},
   "source": [
    "## Create Current Year Summary Attendance Statistics (Ana - Mike Support)"
   ]
  },
  {
   "cell_type": "code",
   "execution_count": null,
   "metadata": {},
   "outputs": [],
   "source": [
    "# Top 10 by visit 2019\n",
    "\n",
    "#Max_Year_df.groupby([\"Park Name\",\"Year\",\"Visits\"]).size().sort_values(ascending=False)\n",
    "\n",
    "#Max_Year_df.sort_values('Visits', ascending=False).head(10)\n",
    "\n",
    "Max_Year_df[[\"Park Name\",\"Year\",\"Visits\"]].sort_values(by=[\"Visits\"],ascending=False).head(10)"
   ]
  },
  {
   "cell_type": "code",
   "execution_count": null,
   "metadata": {},
   "outputs": [],
   "source": [
    "#Top 10 least visited Parks for 2019\n",
    "Max_Year_df[[\"Park Name\",\"Year\",\"Visits\"]].sort_values(by=[\"Visits\"]).head(10)"
   ]
  },
  {
   "cell_type": "code",
   "execution_count": null,
   "metadata": {},
   "outputs": [],
   "source": []
  },
  {
   "cell_type": "code",
   "execution_count": null,
   "metadata": {},
   "outputs": [],
   "source": [
    "Max_Year_df\n",
    "locations= Max_Year_df[['lat', 'lon']].astype(float)\n",
    "locations"
   ]
  },
  {
   "cell_type": "code",
   "execution_count": null,
   "metadata": {
    "scrolled": true
   },
   "outputs": [],
   "source": [
    "#Heat Map All National parks parks.  Intensity = Visits\n",
    "#attendance_master_detail.head()\n",
    "\n",
    "\n",
    "\n",
    "gmaps.configure(api_key=g_key)\n",
    "# Store 'Lat' and 'Lng' into  locations \n",
    "locations= Max_Year_df[['lat', 'lon']].astype(float)\n",
    "#weights=Max_Year_df['Visits'].astype(float)\n",
    "# Convert Poverty Rate to float and store\n",
    "# HINT: be sure to handle NaN values\n",
    "#census_data_complete = census_data_complete.dropna()\n",
    "visits_all = Max_Year_df[\"Visits\"].astype(float)\n",
    "max_visits = Max_Year_df[\"Visits\"].max() \n",
    "#max_visits= Max_Year_df[\"Visits\"].max()\n",
    "\n",
    "# Create a poverty Heatmap layer\n",
    "fig = gmaps.figure()\n",
    "\n",
    "heat_layer = gmaps.heatmap_layer(locations, weights=visits_all, \n",
    "                                 dissipating=False, max_intensity=max_visits,\n",
    "                                 point_radius = 1)\n",
    "\n",
    "fig.add_layer(heat_layer)\n",
    "\n",
    "fig"
   ]
  },
  {
   "cell_type": "code",
   "execution_count": null,
   "metadata": {},
   "outputs": [],
   "source": []
  },
  {
   "cell_type": "markdown",
   "metadata": {},
   "source": [
    "## Create Heat Maps to Visualize Cost and Attendance (Kevin -  Mike support)"
   ]
  },
  {
   "cell_type": "code",
   "execution_count": null,
   "metadata": {},
   "outputs": [],
   "source": [
    "## Heat Map By Operating Costs"
   ]
  },
  {
   "cell_type": "code",
   "execution_count": null,
   "metadata": {},
   "outputs": [],
   "source": [
    "##Heat Map by Attendance"
   ]
  },
  {
   "cell_type": "markdown",
   "metadata": {},
   "source": [
    "## Scater/Line Plots Operating Costs versus Attendance (Ana and Efrain)  Be creative "
   ]
  },
  {
   "cell_type": "code",
   "execution_count": null,
   "metadata": {},
   "outputs": [],
   "source": [
    "Analysis=Budget_Attendance_final_df.loc[:,[\"AdjBudg\",\"Visits\",\"Activity Count\", \"Park Name\", \"Year\"]]\n",
    "Analysis\n",
    "Activity_Count = Analysis[\"Activity Count\"].values.tolist()\n",
    "Budget = Analysis[\"Activity Count\"].values.tolist()\n",
    "Visits = Analysis[\"Visits\"].values.tolist()\n",
    "Year=Analysis[\"Year\"].values.tolist()\n",
    "# Budget, =plt.plot(Year,Budget, color = \"green\", label= \"Visits\")\n",
    "# Attendance, =plt.plot(Year,Visits, color = \"red\", label= \"Visits\")\n",
    "Operation =plt.scatter(Budget,Visits, color = \"blue\", label= \"Visits\",edgecolors=\"black\")\n",
    "# plt.xlim(2005,2022)\n",
    "# plt.ylim(5,11000)\n",
    "plt.title(\"Operating Costs versus Attendance\")\n",
    "plt.xlabel(\"Budget (dollars in thousands)\")\n",
    "plt.ylabel(\"Visits\")\n"
   ]
  },
  {
   "cell_type": "code",
   "execution_count": null,
   "metadata": {},
   "outputs": [],
   "source": [
    "Hist_data=Analysis.query('Year == \"2019\"')\n",
    "Hist_data\n",
    "group=Hist_data.groupby([\"Park Name\"]).head()\n",
    "group\n",
    "TopActivities=group.sort_values(by=[\"Activity Count\"],ascending=False).head(10)\n",
    "TopCost=group.sort_values(by=[\"AdjBudg\"],ascending=False).head(10)\n",
    "TopVisit=group.sort_values(by=[\"Visits\"],ascending=False).head(10)\n",
    "Histograms  = [TopVisit,TopCost,TopActivities]\n",
    "Master_Top_10= pd.concat(Histograms)\n"
   ]
  },
  {
   "cell_type": "markdown",
   "metadata": {},
   "source": [
    "## Trend Analysis (Compare Productivity Year Over Year) Mike and Kevin"
   ]
  },
  {
   "cell_type": "code",
   "execution_count": null,
   "metadata": {},
   "outputs": [],
   "source": [
    "#Graph Park Name vs Budget over time\n",
    "Budget2021=Final_Budget_df.query('Year == \"2021\"')\n",
    "Ten_Most_Expensive2021=Budget2021[[\"Park Name\", \"AdjBudg(dollars in thousands)\", \"Year\"]].sort_values(by=[\"AdjBudg(dollars in thousands)\"],ascending=False).head(10)\n",
    "Ten_Most_Expensive2021"
   ]
  },
  {
   "cell_type": "code",
   "execution_count": null,
   "metadata": {},
   "outputs": [],
   "source": [
    "Scatter_df=Final_Budget_df.loc[:,[\"Park Name\", \"AdjBudg(dollars in thousands)\", \"Year\"]]\n",
    "Park_Name=Scatter_df[\"Park Name\"]\n",
    "Adjusted_Budget=Scatter_df[\"AdjBudg(dollars in thousands)\"]\n",
    "Year=Scatter_df[\"Year\"]\n",
    "plt.scatter(Year, Adjusted_Budget)\n",
    "plt.grid()\n",
    "plt.title(\"National Park Budget 2008 ~ 2020\")\n",
    "plt.xlabel(\"Year\")\n",
    "plt.ylabel(\"National Park Budget\")\n",
    "plt.legend()\n",
    "plt.show()"
   ]
  },
  {
   "cell_type": "markdown",
   "metadata": {},
   "source": []
  }
 ],
 "metadata": {
  "kernelspec": {
   "display_name": "Python 3",
   "language": "python",
   "name": "python3"
  },
  "language_info": {
   "codemirror_mode": {
    "name": "ipython",
    "version": 3
   },
   "file_extension": ".py",
   "mimetype": "text/x-python",
   "name": "python",
   "nbconvert_exporter": "python",
   "pygments_lexer": "ipython3",
   "version": "3.8.3"
  }
 },
 "nbformat": 4,
 "nbformat_minor": 4
}
